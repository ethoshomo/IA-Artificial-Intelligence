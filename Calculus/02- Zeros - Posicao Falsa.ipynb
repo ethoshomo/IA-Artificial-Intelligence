{
 "cells": [
  {
   "cell_type": "markdown",
   "metadata": {},
   "source": [
    "<strong>Universidade de São Paulo (USP) </strong>\\\n",
    "<strong>Discente</strong>: Carlos Filipe de Castro Lemos \\\n",
    "<strong>Implementação</strong>: Método de Determinação de Raízes - Método da Posição Falsa \\\n",
    "<strong>Fonte</strong>: https://www.youtube.com/playlist?list=PLomBG50UAP0m9ukqkap2GqlPXOBUq8FaL"
   ]
  },
  {
   "cell_type": "code",
   "execution_count": 140,
   "metadata": {},
   "outputs": [],
   "source": [
    "def f1(x):\n",
    "    return x**3+3"
   ]
  },
  {
   "cell_type": "code",
   "execution_count": 141,
   "metadata": {},
   "outputs": [],
   "source": [
    "def f2(x):\n",
    "    return x**2-1"
   ]
  },
  {
   "cell_type": "code",
   "execution_count": 142,
   "metadata": {},
   "outputs": [],
   "source": [
    "def f3(x):\n",
    "    return x**3 - 9*x + 3"
   ]
  },
  {
   "cell_type": "code",
   "execution_count": 143,
   "metadata": {},
   "outputs": [],
   "source": [
    "def posicao_falsa(f, a, b, epsilon, iterMax=50):\n",
    "\n",
    "    x = (a*f(b)-b*f(a))/(f(b)-f(a))\n",
    "\n",
    "    # Testa se a curva intersecta o eixo X\n",
    "    if f(a)*f(b) > 0:\n",
    "        print('O intervalo não intersepta o eixo das abcissas')\n",
    "        return (True, a)\n",
    "\n",
    "    # Testa o intervalo: se for pequeno o suficiente,\n",
    "    # qualquer valor serve como resposta.\n",
    "    if abs(b-a) <= epsilon: return (False, a)\n",
    "\n",
    "    # Testa se os extremos são raízes\n",
    "    if abs(f(a)) < epsilon: return (False, a)\n",
    "    if abs(f(b)) < epsilon: return (False, b)\n",
    "\n",
    "    # Início das Iterações\n",
    "    k = 1\n",
    "    while k <= iterMax:\n",
    "        \n",
    "        # Calcula a Intersecção da Secante com Eixo-X\n",
    "        x = (a*f(b)-b*f(a))/(f(b)-f(a))\n",
    "\n",
    "        # Primeiro teste: testar módulo da função.\n",
    "        if abs(f(x)) <= epsilon: return (False, x)\n",
    "\n",
    "        # Atualização de valores para teste do intervalo\n",
    "        if f(a)*f(x) < 0: b = x\n",
    "        if f(b)*f(x) < 0: a = x\n",
    "\n",
    "        # Segundo teste: teste do tamanho do intervalo.\n",
    "        if abs(b-a) <= epsilon: return (False, x)\n",
    "        \n",
    "        # Controle de iterações\n",
    "        k += 1\n",
    "\n",
    "    print('Número máximo de iterações atinggido',k)\n",
    "    return (True, x)"
   ]
  },
  {
   "cell_type": "code",
   "execution_count": 144,
   "metadata": {},
   "outputs": [
    {
     "data": {
      "text/plain": [
       "(False, -1.4210526315789473)"
      ]
     },
     "execution_count": 144,
     "metadata": {},
     "output_type": "execute_result"
    }
   ],
   "source": [
    "posicao_falsa(f1, -1.5, -1, 0.1)"
   ]
  },
  {
   "cell_type": "code",
   "execution_count": 145,
   "metadata": {},
   "outputs": [
    {
     "data": {
      "text/plain": [
       "(False, 0.9596774193548387)"
      ]
     },
     "execution_count": 145,
     "metadata": {},
     "output_type": "execute_result"
    }
   ],
   "source": [
    "posicao_falsa(f2, -0.25, 1.25, 0.2)"
   ]
  },
  {
   "cell_type": "code",
   "execution_count": 146,
   "metadata": {},
   "outputs": [
    {
     "data": {
      "text/plain": [
       "(False, 0.33763504551140067)"
      ]
     },
     "execution_count": 146,
     "metadata": {},
     "output_type": "execute_result"
    }
   ],
   "source": [
    "posicao_falsa(f3, 0, 1, 0.001)"
   ]
  }
 ],
 "metadata": {
  "kernelspec": {
   "display_name": ".venv",
   "language": "python",
   "name": "python3"
  },
  "language_info": {
   "codemirror_mode": {
    "name": "ipython",
    "version": 3
   },
   "file_extension": ".py",
   "mimetype": "text/x-python",
   "name": "python",
   "nbconvert_exporter": "python",
   "pygments_lexer": "ipython3",
   "version": "3.11.7"
  }
 },
 "nbformat": 4,
 "nbformat_minor": 2
}
