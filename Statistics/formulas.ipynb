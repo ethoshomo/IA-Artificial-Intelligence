{
 "cells": [
  {
   "cell_type": "markdown",
   "metadata": {},
   "source": [
    "- Médias\n",
    "- Modas\n",
    "- Medianas\n",
    "- Boxplot\n",
    "- Variância\n",
    "- Desvio Padrão\n",
    "- Distribuições\n",
    "- Regressão Linear\n",
    "- Intervalo de Confiança"
   ]
  },
  {
   "cell_type": "markdown",
   "metadata": {},
   "source": [
    "# Packages"
   ]
  },
  {
   "cell_type": "code",
   "execution_count": 155,
   "metadata": {},
   "outputs": [],
   "source": [
    "import numpy as np\n",
    "import statistics as st\n",
    "import math\n",
    "import scipy\n",
    "from collections import Counter"
   ]
  },
  {
   "cell_type": "markdown",
   "metadata": {},
   "source": [
    "# Data Used in All Examples"
   ]
  },
  {
   "cell_type": "code",
   "execution_count": 156,
   "metadata": {},
   "outputs": [],
   "source": [
    "numerical = [2,5,7,4,1,9,5,9,2,6,7,9,4,3,5,7] # Par\n",
    "\n",
    "numerical_even = [2,5,7,4,1,9,10,9,2,6,7,9,4,3,5,7] # Par\n",
    "numerical_odd = [2,5,7,4,1,9,5,9,2,6,7,9,4,3,5,7,2] # Impar\n",
    "\n",
    "categorical = ['banana','laranja','maçã','abacate','laranja','melão']\n",
    "\n",
    "count = int\n",
    "total = float"
   ]
  },
  {
   "cell_type": "markdown",
   "metadata": {},
   "source": [
    "# Central Tendency Measures"
   ]
  },
  {
   "cell_type": "markdown",
   "metadata": {},
   "source": [
    "## Mean"
   ]
  },
  {
   "cell_type": "markdown",
   "metadata": {},
   "source": [
    "$$\\bar{x} = \\frac{\\sum_{i=1}^{n}x_{i}}{n}$$"
   ]
  },
  {
   "cell_type": "code",
   "execution_count": 157,
   "metadata": {},
   "outputs": [
    {
     "name": "stdout",
     "output_type": "stream",
     "text": [
      "Mean (brute force):  5.3125\n",
      "Mean (Numpy):  5.3125\n",
      "Mean (Statistics):  5.3125\n"
     ]
    }
   ],
   "source": [
    "# Hard Coded\n",
    "count = 0\n",
    "total = 0\n",
    "for n in numerical:\n",
    "    total += n\n",
    "    count += 1\n",
    "\n",
    "# Show Mean\n",
    "print(\"Mean (brute force): \", total/count)\n",
    "print(\"Mean (Numpy): \", np.mean(numerical))\n",
    "print(\"Mean (Statistics): \", st.mean(numerical))\n"
   ]
  },
  {
   "cell_type": "markdown",
   "metadata": {},
   "source": [
    "## Harmonic Mean"
   ]
  },
  {
   "cell_type": "markdown",
   "metadata": {},
   "source": [
    "$$M_{h} = \\frac{n}{\\sum_{i=1}^{n}\\frac{1}{x_{i}}}$$"
   ]
  },
  {
   "cell_type": "code",
   "execution_count": 158,
   "metadata": {},
   "outputs": [
    {
     "name": "stdout",
     "output_type": "stream",
     "text": [
      "Harmonic Mean (brute force):  3.6681222707423577\n",
      "Harmonic Mean (Scipy):  3.6681222707423577\n",
      "Harmonic Mean (Statistics):  3.668122270742358\n"
     ]
    }
   ],
   "source": [
    "# Hard Coded\n",
    "count = 0\n",
    "total = 0\n",
    "for n in numerical:\n",
    "    total += (1/n)\n",
    "    count += 1\n",
    "\n",
    "# Show Mean\n",
    "print(\"Harmonic Mean (brute force): \", count/total)\n",
    "print(\"Harmonic Mean (Scipy): \", scipy.stats.hmean(numerical))\n",
    "print(\"Harmonic Mean (Statistics): \", st.harmonic_mean(numerical))"
   ]
  },
  {
   "cell_type": "markdown",
   "metadata": {},
   "source": [
    "## Mode"
   ]
  },
  {
   "cell_type": "markdown",
   "metadata": {},
   "source": [
    "## Median"
   ]
  },
  {
   "cell_type": "markdown",
   "metadata": {},
   "source": [
    "We have to select the central element. To do this:\n",
    "\n",
    "* We need to sort the list\n",
    "* Find the median term: if the number is odd, it is the central element, however, if it is even, the median is the average of the two central elements."
   ]
  },
  {
   "cell_type": "code",
   "execution_count": 159,
   "metadata": {},
   "outputs": [],
   "source": [
    "def median(l):\n",
    "    \n",
    "    # Sorted List\n",
    "    l = sorted(l)\n",
    "\n",
    "    # Size os list\n",
    "    s = len(l)\n",
    "\n",
    "    # Check if it is even or odd\n",
    "    if s%2 == 0:\n",
    "        return (l[int(s/2)-1]+l[int(s/2)])/2\n",
    "    else:\n",
    "        return l[math.ceil(s/2)]"
   ]
  },
  {
   "cell_type": "code",
   "execution_count": 160,
   "metadata": {},
   "outputs": [
    {
     "name": "stdout",
     "output_type": "stream",
     "text": [
      "[1, 2, 2, 3, 4, 4, 5, 5, 6, 7, 7, 7, 9, 9, 9, 10]\n",
      "[1, 2, 2, 2, 3, 4, 4, 5, 5, 5, 6, 7, 7, 7, 9, 9, 9] 5\n",
      "\n",
      "Median (Hard Coded - Even) 5.5\n",
      "Median (Hard Coded - Odd) 5\n",
      "\n",
      "Median (Numpy - Percentile - Even) 5.5\n",
      "Median (Numpy - Percentile - Odd) 5.0\n",
      "\n",
      "Median (Numpy - Even) 5.5\n",
      "Median (Numpy - Odd) 5.0\n",
      "\n",
      "Median (Statistics - Even) 5.5\n",
      "Median (Statistics - Odd) 5\n"
     ]
    }
   ],
   "source": [
    "# Hard Coded\n",
    "print(sorted(numerical_even))\n",
    "print(sorted(numerical_odd), median(numerical_odd))\n",
    "\n",
    "# Numpy\n",
    "print(\"\\nMedian (Hard Coded - Even)\", median(numerical_even))\n",
    "print(\"Median (Hard Coded - Odd)\", median(numerical_odd))\n",
    "\n",
    "# Percentile\n",
    "print(\"\\nMedian (Numpy - Percentile - Even)\", np.percentile(numerical_even, 50, method='midpoint'))\n",
    "print(\"Median (Numpy - Percentile - Odd)\", np.percentile(numerical_odd, 50, method='midpoint'))\n",
    "\n",
    "# Numpy\n",
    "print(\"\\nMedian (Numpy - Even)\", np.median(numerical_even))\n",
    "print(\"Median (Numpy - Odd)\", np.median(numerical_odd))\n",
    "\n",
    "# Statistics\n",
    "print(\"\\nMedian (Statistics - Even)\", st.median(numerical_even))\n",
    "print(\"Median (Statistics - Odd)\", st.median(numerical_odd))"
   ]
  }
 ],
 "metadata": {
  "kernelspec": {
   "display_name": "DataPackages",
   "language": "python",
   "name": "python3"
  },
  "language_info": {
   "codemirror_mode": {
    "name": "ipython",
    "version": 3
   },
   "file_extension": ".py",
   "mimetype": "text/x-python",
   "name": "python",
   "nbconvert_exporter": "python",
   "pygments_lexer": "ipython3",
   "version": "3.11.5"
  },
  "orig_nbformat": 4
 },
 "nbformat": 4,
 "nbformat_minor": 2
}
