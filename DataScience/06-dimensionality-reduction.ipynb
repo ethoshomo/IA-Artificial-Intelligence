{
 "cells": [
  {
   "cell_type": "markdown",
   "metadata": {},
   "source": [
    "**UNIVERSIDADE DE SÃO PAULO (USP)**\n",
    "\n",
    "**_Author_**: Carlos Filipe de Castro Lemos\n",
    "\n",
    "**_Academic Study_**: Dimensionality Reduction"
   ]
  }
 ],
 "metadata": {
  "language_info": {
   "name": "python"
  },
  "orig_nbformat": 4
 },
 "nbformat": 4,
 "nbformat_minor": 2
}
