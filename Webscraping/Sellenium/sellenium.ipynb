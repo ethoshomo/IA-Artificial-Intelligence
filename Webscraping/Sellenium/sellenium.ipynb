{
 "cells": [
  {
   "cell_type": "code",
   "execution_count": 13,
   "metadata": {},
   "outputs": [],
   "source": [
    "# Selinium: Programa -> WebDriver: interage com navegador -> Firefox: navegador\n",
    "from selenium.webdriver import Firefox, Chrome\n",
    "\n",
    "# Permite o uso de seletores em CSS\n",
    "from selenium.webdriver.common.by import By"
   ]
  },
  {
   "cell_type": "markdown",
   "metadata": {},
   "source": [
    "# Exercicio 1"
   ]
  },
  {
   "cell_type": "markdown",
   "metadata": {},
   "source": [
    "Crie um programa com selenium que gere um dicionário, onde a chave é a tag h1 (o valor deve ser um novo dicionário, cada chave do valor deverá ser o valor de atributo, cada valor deve ser o texto contido no elemento).\n",
    "\n",
    "url: https://curso-python-selenium.netlify.app/exercicio_01.html"
   ]
  },
  {
   "cell_type": "code",
   "execution_count": 35,
   "metadata": {},
   "outputs": [
    {
     "name": "stderr",
     "output_type": "stream",
     "text": [
      "The chromedriver version (120.0.6099.71) detected in PATH at /usr/bin/chromedriver might not be compatible with the detected chrome version (120.0.6099.109); currently, chromedriver 120.0.6099.109 is recommended for chrome 120.*, so it is advised to delete the driver in PATH and retry\n"
     ]
    }
   ],
   "source": [
    "# Criando objeto do Navegador\n",
    "browser = Chrome()"
   ]
  },
  {
   "cell_type": "code",
   "execution_count": 36,
   "metadata": {},
   "outputs": [],
   "source": [
    "# Automatiza o comportamento de digitar o endereço no site e clicar em enter\n",
    "browser.get('https://curso-python-selenium.netlify.app/exercicio_01.html')"
   ]
  },
  {
   "cell_type": "code",
   "execution_count": 41,
   "metadata": {},
   "outputs": [],
   "source": [
    "data = {}\n",
    "h1 = browser.find_element(By.TAG_NAME, 'h1')\n",
    "x = 1\n",
    "for h in h1.text.split(' '):\n",
    "    data['text'+str(x)] = h\n",
    "    x+=1"
   ]
  },
  {
   "cell_type": "code",
   "execution_count": 42,
   "metadata": {},
   "outputs": [
    {
     "name": "stdout",
     "output_type": "stream",
     "text": [
      "{'text1': 'Boas', 'text2': 'vindas'}\n"
     ]
    }
   ],
   "source": [
    "print(data)"
   ]
  },
  {
   "cell_type": "code",
   "execution_count": 43,
   "metadata": {},
   "outputs": [],
   "source": [
    "# Fecha o navegador\n",
    "browser.quit()"
   ]
  },
  {
   "cell_type": "markdown",
   "metadata": {},
   "source": [
    "# Exercicio 2"
   ]
  },
  {
   "cell_type": "code",
   "execution_count": 102,
   "metadata": {},
   "outputs": [],
   "source": [
    "url = 'https://curso-python-selenium.netlify.app/exercicio_02.html'\n",
    "browser = Firefox()\n",
    "browser.get(url)"
   ]
  },
  {
   "cell_type": "code",
   "execution_count": 103,
   "metadata": {},
   "outputs": [
    {
     "name": "stdout",
     "output_type": "stream",
     "text": [
      "Numero esperado: 8\n",
      "Número encontrado: 9\n",
      "Número encontrado: 7\n",
      "Número encontrado: 1\n",
      "Número encontrado: 7\n",
      "Número encontrado: 5\n",
      "Número encontrado: 2\n",
      "Número encontrado: 6\n",
      "Número encontrado: 5\n",
      "Número encontrado: 4\n",
      "Número encontrado: 5\n",
      "Número encontrado: 8\n",
      "Sucesso no 8!!!\n"
     ]
    }
   ],
   "source": [
    "n_esperado = browser.find_elements(By.TAG_NAME, 'p')[1].text.split(\" \")[2]\n",
    "print('Numero esperado:',n_esperado)\n",
    "\n",
    "while(True):\n",
    "    browser.find_element(By.TAG_NAME, 'a').click()\n",
    "    p = browser.find_elements(By.TAG_NAME, 'p')\n",
    "    numero = p[-1].text.split(\" \")\n",
    "    print(f'Número encontrado:', numero[-1])\n",
    "    if len(numero) > 1: \n",
    "        numero = p[-1].text.split(\" \")[2]\n",
    "        print(f\"Sucesso no {numero}!!!\")\n",
    "        break\n",
    "browser.quit()"
   ]
  },
  {
   "cell_type": "markdown",
   "metadata": {},
   "source": [
    "Navegação usando histórico e outros elementos:\n",
    "- browser.back()\n",
    "- browser.forward()\n",
    "- browser.refresh()\n",
    "\n",
    "A seleção dos inputs podem ser simplificadas mediante a utilização do atributo 'name' que é exclusivo desta tag de HTML. Depois de selecionar o input, podemos:\n",
    "- escrever texto: elemento.send_keys('texto')\n",
    "- limpar o formulario: elemento.clear()\n",
    "\n",
    "Tipos de espera:\n",
    "\n",
    "- Implicito: todos os comandos vai esperar, mesmo que não exista. Funciona, mas pode disperdiçar muito tempo de execução.\n",
    "\n",
    "from selenium.webdriver import Firefox\n",
    "f = Firefox()\n",
    "f.implicitly_wait(30)\n",
    "\n",
    "- Explicito: é reutilizável e o selenium apresenta uma variedade de opções, sendo customizáveis.\n",
    "\n",
    "from selenium.webdriver.support.ui import WebDriverWait\n",
    "wdw = WebDriverWait(\n",
    "    driver, # webdriver\n",
    "    timeout, # tempo de espera até o erro\n",
    "    poll_frequency=0.5, # tempo entre uma tentativa e outra\n",
    "    ignored_exceptions=None # lista de coisas que vamos ignorar\n",
    ")\n",
    "\n",
    "Esse objeto criado tem um método, que faz a verificação reiterada se o callable está verdadeiro no lapso de tempo poll_frequency:\n",
    "wdw.until(\n",
    "    Callable,   # Operação que vai ser executada\n",
    "    Message     # Mensagem em caso de erro (opcional)\n",
    ")\n",
    "\n",
    "Esse callable é programação funcional e deve receber tão somente o webdriver.\n",
    "\n",
    "\n",
    "Expected Conditions: são condições de espera que já vieram programadas pelo Selenium.\n",
    "- Existência do Elemento: é realmente verificar se o elemento existe (foi carregado e está disponível). É importante notar que existem elementos escondidos na tela (hidden).\n",
    "- Visibilidade do Elemento: verifica se o elemento está desenhado na tela e está ativo ou não."
   ]
  }
 ],
 "metadata": {
  "kernelspec": {
   "display_name": "DataPackages",
   "language": "python",
   "name": "python3"
  },
  "language_info": {
   "codemirror_mode": {
    "name": "ipython",
    "version": 3
   },
   "file_extension": ".py",
   "mimetype": "text/x-python",
   "name": "python",
   "nbconvert_exporter": "python",
   "pygments_lexer": "ipython3",
   "version": "3.11.6"
  }
 },
 "nbformat": 4,
 "nbformat_minor": 2
}
