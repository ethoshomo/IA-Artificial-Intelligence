{
 "cells": [
  {
   "cell_type": "markdown",
   "metadata": {},
   "source": [
    "<strong>Universidade de São Paulo (USP) </strong>\\\n",
    "<strong>Discente</strong>: Carlos Filipe de Castro Lemos \\\n",
    "<strong>Implementação</strong>: Método de Gauss para calcular Determinantes \\\n",
    "<strong>Fonte</strong>: https://www.youtube.com/playlist?list=PLomBG50UAP0m9ukqkap2GqlPXOBUq8FaL"
   ]
  },
  {
   "cell_type": "code",
   "execution_count": 89,
   "metadata": {},
   "outputs": [],
   "source": [
    "from copy import deepcopy"
   ]
  },
  {
   "cell_type": "code",
   "execution_count": 90,
   "metadata": {},
   "outputs": [],
   "source": [
    "def determinanteGauss(A,b):\n",
    "\n",
    "    # Método de Eliminação de Gauss\n",
    "    n = len(A)\n",
    "    for k in range(n-1): \n",
    "        for i in range(k+1, n):\n",
    "            m = -A[i][k]/A[k][k]\n",
    "            for j in range(k+1, n):\n",
    "                A[i][j] = m*A[k][j] + A[i][j]\n",
    "            b[i] = m*b[k] + b[i]\n",
    "            A[i][k] = 0\n",
    "    \n",
    "    # Ao invés de resolver o sistema, calculamos o \n",
    "    # determinantes:\n",
    "    resultado = 1\n",
    "    for i in range(n):\n",
    "        resultado = resultado * A[i][i]\n",
    "\n",
    "    return resultado"
   ]
  },
  {
   "cell_type": "code",
   "execution_count": 91,
   "metadata": {},
   "outputs": [],
   "source": [
    "def determinanteGaussPivotacao(A,b):\n",
    "\n",
    "    # Método de Eliminação de Gauss com Pivotacao\n",
    "    n = len(A)\n",
    "    p = 0\n",
    "    for k in range(n-1): \n",
    "        \n",
    "        # Seleciona o indice que apresenta o \n",
    "        # elemento de maior valor\n",
    "        indice = k\n",
    "        for l in range(k+1, n):\n",
    "            if abs(A[l][k]) > abs(A[indice][k]):\n",
    "                indice = l\n",
    "\n",
    "        # Se o indice for diferente do atual, \n",
    "        # permuta valores e contabiliza permutação\n",
    "        if indice != k:\n",
    "            p += 1\n",
    "            [A[indice], A[k]] = [A[k], A[indice]]\n",
    "            [b[indice], b[k]] = [b[k], b[indice]]\n",
    "\n",
    "        # Percorre todas as linhas inferiores\n",
    "        # para atualizar valores da matriz\n",
    "        for i in range(k+1, n):\n",
    "            m = -A[i][k]/A[k][k]\n",
    "            for j in range(k+1, n):\n",
    "                A[i][j] = m*A[k][j] + A[i][j]\n",
    "            b[i] = m*b[k] + b[i]\n",
    "            A[i][k] = 0\n",
    "    \n",
    "    # Ao invés de resolver o sistema, calculamos o \n",
    "    # determinantes:\n",
    "    resultado = 1\n",
    "    for i in range(n):\n",
    "        resultado = resultado * A[i][i]\n",
    "    \n",
    "    # Ajusta o sinal para devolver o resultado correto\n",
    "    return (-1)**p * resultado"
   ]
  },
  {
   "cell_type": "code",
   "execution_count": 92,
   "metadata": {},
   "outputs": [
    {
     "name": "stdout",
     "output_type": "stream",
     "text": [
      "6.999999999999997\n",
      "6.999999999999999\n"
     ]
    }
   ],
   "source": [
    "A = [[1, 2, 3],\n",
    "     [3, 1, 0],\n",
    "     [0, 3, 4]]\n",
    "b = [3,4,3]\n",
    "\n",
    "copyA = deepcopy(A)\n",
    "copyB = deepcopy(b)\n",
    "print(determinanteGauss(copyA,copyB))\n",
    "\n",
    "copyA = deepcopy(A)\n",
    "copyB = deepcopy(b)\n",
    "print(determinanteGaussPivotacao(copyA,copyB))"
   ]
  },
  {
   "cell_type": "code",
   "execution_count": 93,
   "metadata": {},
   "outputs": [
    {
     "name": "stdout",
     "output_type": "stream",
     "text": [
      "144.0\n"
     ]
    }
   ],
   "source": [
    "A = [[ 6,  -2, 2,   4],\n",
    "     [12,  -8, 6,  10],\n",
    "     [ 3, -13, 9,   3],\n",
    "     [-6,   4, 1, -18]]\n",
    "b = [16,26,-19,-34]\n",
    "\n",
    "copyA = deepcopy(A)\n",
    "copyB = deepcopy(b)\n",
    "print(determinanteGauss(copyA,copyB))"
   ]
  },
  {
   "cell_type": "code",
   "execution_count": 94,
   "metadata": {},
   "outputs": [
    {
     "name": "stdout",
     "output_type": "stream",
     "text": [
      "0.0\n"
     ]
    }
   ],
   "source": [
    "A = [[1, -3, 2],\n",
    "     [1, -3, 2],\n",
    "     [4, -6, 5]]\n",
    "b = [3,4,3]\n",
    "\n",
    "copyA = deepcopy(A)\n",
    "copyB = deepcopy(b)\n",
    "print(determinanteGaussPivotacao(copyA,copyB))"
   ]
  }
 ],
 "metadata": {
  "kernelspec": {
   "display_name": ".venv",
   "language": "python",
   "name": "python3"
  },
  "language_info": {
   "codemirror_mode": {
    "name": "ipython",
    "version": 3
   },
   "file_extension": ".py",
   "mimetype": "text/x-python",
   "name": "python",
   "nbconvert_exporter": "python",
   "pygments_lexer": "ipython3",
   "version": "3.11.7"
  }
 },
 "nbformat": 4,
 "nbformat_minor": 2
}
