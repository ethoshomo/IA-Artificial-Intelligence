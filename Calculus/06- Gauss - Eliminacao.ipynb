{
 "cells": [
  {
   "cell_type": "markdown",
   "metadata": {},
   "source": [
    "<strong>Universidade de São Paulo (USP) </strong>\\\n",
    "<strong>Discente</strong>: Carlos Filipe de Castro Lemos \\\n",
    "<strong>Implementação</strong>: Método de Resolução de Sistemas - Método Gauss \\\n",
    "<strong>Fonte</strong>: https://www.youtube.com/playlist?list=PLomBG50UAP0m9ukqkap2GqlPXOBUq8FaL"
   ]
  },
  {
   "cell_type": "markdown",
   "metadata": {},
   "source": [
    "# Método da Eliminação de Gauss"
   ]
  },
  {
   "cell_type": "markdown",
   "metadata": {},
   "source": [
    "A teoria do Método da Eliminação de Gauss serve para simplificar o procedimento de resolução de sistemas, evitando complicações como o cálculo de inversas e multiplicações de matrizes, que são ineficientes, pois apresentam numérico fatorial de multiplicações. Por exemplo, o método da Álgebra Linear envolve as seguintes operações:\n",
    "\n",
    "$$\n",
    "A.\\vec x = \\vec b \\\\\n",
    "A^{-1}.A.\\vec x = A^{-1}\\vec b \\\\\n",
    "I.\\vec x = A^{-1}\\vec b \\\\\n",
    "\\vec x = A^{-1}\\vec b \\\\\n",
    "$$\n",
    "\n",
    "* I = Matriz Identidade\n",
    "* A = Matriz de Coeficientes\n",
    "* $\\vec x$ = Vetor das variáveis\n",
    "* $\\vec b$ = Vetor das constantes\n",
    "\n",
    "Nesse contexto, o método da Eliminação de Gauss vem para auxiliar nos cálculos. Por exemplo, a simplificação do sistema abaixo, pode ser feito em algumas etapas:\n",
    "\n",
    "$$\n",
    "\\begin{cases}\n",
    " x_{1}-3.x_{2}+2.x_{3} = 11 \\\\\n",
    " -2.x_{1}+8.x_{2}-1.x_{3} = -15 \\\\\n",
    " 4.x_{1}-6.x_{2}+5.x_{3} = 29 \n",
    "\\end{cases}\n",
    "$$\n",
    "\n",
    "* **Identificação e desmembramento:** Matriz dos Coeficientes (A), Vetor de Variáveis ($\\vec x$) e Vetor das Constantes (b), formando $A.\\vec x = \\vec b$:\n",
    "\n",
    "$$\n",
    "\\begin{bmatrix}\n",
    " 1 & -3 & 2 \\\\[0.3em]\n",
    " -2 & 8 & -1 \\\\[0.3em]\n",
    " 4 & 6 & 5\n",
    "\\end{bmatrix}\n",
    ".\n",
    "\\begin{bmatrix}\n",
    " x_{1} \\\\ x_{2} \\\\ x_{3}\n",
    "\\end{bmatrix}\n",
    "=\n",
    "\\begin{bmatrix}\n",
    " 11 \\\\ -15 \\\\ 29\n",
    "\\end{bmatrix}\n",
    "$$\n",
    "\n",
    "* **Aplicação de Operações l-elementares**: transformar o sistema acima em um sistema equivalente, o qual possui a mesma solução. É importante que o sistema equivalente seja triangular superior ou inferior. No exemplo abaixo vou aplicar somente para a matriz dos coeficientes, mas deve ser aplicada também ao vetor b:\n",
    "\n",
    "$$\n",
    "\\begin{bmatrix}\n",
    " 1 & -3 & 2 \\\\[0.3em]\n",
    " -2 & 8 & -1 \\\\[0.3em]\n",
    " 4 & 6 & 5\n",
    "\\end{bmatrix}\n",
    "\n",
    "\\xRightarrow{L_{2} = 2.L{1}+L_{2}} \n",
    "\n",
    "\\begin{bmatrix}\n",
    " 1 & -3 & 2 \\\\[0.3em]\n",
    " 0 & 2 & 3 \\\\[0.3em]\n",
    " 4 & 6 & 5\n",
    "\\end{bmatrix}\n",
    "\n",
    "\\xRightarrow{L_{3} = -4.L{1}+L_{3}} \n",
    "\n",
    "\\begin{bmatrix}\n",
    " 1 & -3 & 2 \\\\[0.3em]\n",
    " 0 & 2 & 3 \\\\[0.3em]\n",
    " 0 & 6 & -3\n",
    "\\end{bmatrix}\n",
    "\n",
    "\\xRightarrow{L_{3} = -3.L{2}+L_{3}} \n",
    "\n",
    "\\begin{bmatrix}\n",
    " 1 & -3 & 2 \\\\[0.3em]\n",
    " 0 & 2 & 3 \\\\[0.3em]\n",
    " 0 & 0 & -3\n",
    "\\end{bmatrix}\n",
    "$$\n",
    "\n",
    "* **Resolução do Sistema**: utiliza-se os métodos das substituições retroativas (matriz triangular superior) ou substituições sucessivas (matriz triangular inferior). A ideia básica é que existe uma equação cuja variável está praticamente resolvida. Assim, é possível aproveitar esse e os próximos resultados sucessivamente ou retroativamente nas outras equações. Ao final, teremos o sistema resolvido.\n",
    "\n",
    "* **Cálculo Residual**: a transformação do sistema, bem como erros acumulados em virtude de arredondamentos de números ou de operações sucessivas, podem gerar erros de cálculos no resultado final. Por isso, é comum realizar o teste de cálculo residual:\n",
    "\n",
    "$$\n",
    "    A.\\vec x = \\vec b \\\\\n",
    "    0 = \\vec b - A.\\vec x \\quad \\text{(resultado exato esperado/desejado)}\\\\\n",
    "    r = \\vec b - A.\\vec x \\quad \\text{(cálculo do resíduo - generalizado)}\\\\\n",
    "$$"
   ]
  },
  {
   "cell_type": "markdown",
   "metadata": {},
   "source": [
    "## Substituições Retroativas"
   ]
  },
  {
   "cell_type": "markdown",
   "metadata": {},
   "source": [
    "O protótipo é receber como parâmetros a matriz quadrada de coeficientes A e o vetor de resultados b. Assim, utilizaremos o caso geral para calcular o vetor de retorno x. Caso geral:\n",
    "$$\n",
    "    x_{i} = \\frac{b_{i} - \\sum_{j=i+1}^{n} a_{ij}b_{j}}{a_{ii}}\n",
    "$$\n",
    "\n",
    "Observação: \n",
    "* A fórmula acima faz a indexação do vetor [1,n] e isso pode trazer confusão na hora de codar, pois o python indexa seus vetores a partir do [0,n-1]."
   ]
  },
  {
   "cell_type": "code",
   "execution_count": 1,
   "metadata": {},
   "outputs": [],
   "source": [
    "def retroativas(A, b):\n",
    "    \n",
    "    # n é a ordem da matriz A\n",
    "    n = len(A)\n",
    "\n",
    "    # Inicializa vetor X com tamanho 'n' e elementos iguais a zero.\n",
    "    x = n * [0]\n",
    "\n",
    "    for i in range(n-1, -1, -1):\n",
    "        \n",
    "        # Calculo do somatório\n",
    "        S = 0\n",
    "        for j in range(i+1, n): \n",
    "            S = S + A[i][j] * x[j]\n",
    "\n",
    "        # Calculo do x[i]\n",
    "        x[i] = (b[i] - S)/A[i][i]\n",
    "\n",
    "    return x"
   ]
  },
  {
   "cell_type": "code",
   "execution_count": 2,
   "metadata": {},
   "outputs": [
    {
     "data": {
      "text/plain": [
       "[-3.0, 0.0, 2.0, 4.0]"
      ]
     },
     "execution_count": 2,
     "metadata": {},
     "output_type": "execute_result"
    }
   ],
   "source": [
    "A = [[5, -2, 6, 1],\n",
    "     [0, 3, 7, -4],\n",
    "     [0, 0, 4, 5],\n",
    "     [0, 0, 0, 2]]\n",
    "b = [1,-2,28,8]\n",
    "\n",
    "retroativas(A,b)"
   ]
  },
  {
   "cell_type": "code",
   "execution_count": 3,
   "metadata": {},
   "outputs": [
    {
     "data": {
      "text/plain": [
       "[2.0, 3.0, 2.0, 1.0]"
      ]
     },
     "execution_count": 3,
     "metadata": {},
     "output_type": "execute_result"
    }
   ],
   "source": [
    "A = [[2, 2, 3, 4],\n",
    "     [0, 5, 6, 7],\n",
    "     [0, 0, 8, 9],\n",
    "     [0, 0, 0, 10]]\n",
    "b = [20,34,25,10]\n",
    "\n",
    "retroativas(A,b)"
   ]
  },
  {
   "cell_type": "markdown",
   "metadata": {},
   "source": [
    "## Substituições Sucessivas"
   ]
  },
  {
   "cell_type": "markdown",
   "metadata": {},
   "source": [
    "O raciocínio é invertido, pois a matriz é triangular inferior:\n",
    "$$\n",
    "    x_{i} = \\frac{b_{i} - \\sum_{j=1}^{i-1} a_{ij}b_{j}}{a_{ii}}\n",
    "$$"
   ]
  },
  {
   "cell_type": "code",
   "execution_count": 4,
   "metadata": {},
   "outputs": [],
   "source": [
    "def sucessivas(A, b):\n",
    "    \n",
    "    # n é a ordem da matriz A\n",
    "    n = len(A)\n",
    "\n",
    "    # Inicializa vetor X com tamanho 'n' e elementos iguais a zero.\n",
    "    x = n * [0]\n",
    "\n",
    "    for i in range(0, n):\n",
    "        \n",
    "        # Calculo do somatório\n",
    "        S = 0\n",
    "        for j in range(0, n-1): \n",
    "            S = S + A[i][j] * x[j]\n",
    "\n",
    "        # Calculo do x[i]\n",
    "        x[i] = (b[i] - S)/A[i][i]\n",
    "\n",
    "    return x"
   ]
  },
  {
   "cell_type": "code",
   "execution_count": 5,
   "metadata": {},
   "outputs": [
    {
     "data": {
      "text/plain": [
       "[2.0, -1.0, 5.0, 3.0]"
      ]
     },
     "execution_count": 5,
     "metadata": {},
     "output_type": "execute_result"
    }
   ],
   "source": [
    "A = [[2, 0, 0, 0],\n",
    "     [3, 5, 0, 0],\n",
    "     [1, -6, 8, 0],\n",
    "     [-1, 4, -3, 9]]\n",
    "b = [4,1,48,6]\n",
    "\n",
    "sucessivas(A,b)"
   ]
  },
  {
   "cell_type": "markdown",
   "metadata": {},
   "source": [
    "## Método da Eliminação de Gauss"
   ]
  },
  {
   "cell_type": "markdown",
   "metadata": {},
   "source": [
    "Essa é uma implementação da Eliminação Ingênua de Gauss, ou seja, vamos supor, por exemplo, que o $det(A) \\neq 0$ e que os elementos na diagonal principal são também diferentes de zero. \n",
    "\n",
    "A estratégia é fazer uma eliminação dos números abaixo da diagonal principal por colunas, exceto a última que não precisa fazer nada, pois $a_{nn}$ não tem elementos abaixo de si.\n",
    "\n",
    "Em cada coluna, deveremos fazer um loop com k valores, que é a fase para remover a coluna k. Calcula-se o fator m e atualiza a matriz A e o vetor b para todas as linhas calculadas (uma a uma).\n",
    "\n",
    "Por fim, com a matriz triangular superior formada, resolveremos o sistema utilizando substituições retroativas."
   ]
  },
  {
   "cell_type": "code",
   "execution_count": 6,
   "metadata": {},
   "outputs": [],
   "source": [
    "def gauss(A,b):\n",
    "    \"\"\" \n",
    "    Executa o Método da Eliminação de Gauss para resolver\n",
    "    o sistema linear Ax=b, transformando a matriz quadrada\n",
    "    em um sistema triangular superior equivalente.\n",
    "    \"\"\"\n",
    "    \n",
    "    # Ordem da Matriz A\n",
    "    n = len(A)\n",
    "\n",
    "    # Etapas K: seleciona a coluna da remoção\n",
    "    # Desconsidera-se a última coluna (não precisa calcular)\n",
    "    for k in range(n-1): \n",
    "        \n",
    "        # Seleciona a linha da remoção\n",
    "        for i in range(k+1, n):\n",
    "            \n",
    "            # Calcula valor da constante\n",
    "            m = -A[i][k]/A[k][k]\n",
    "            \n",
    "            # Atualiza valores da linha inteira\n",
    "            for j in range(k+1, n):\n",
    "                A[i][j] = m*A[k][j] + A[i][j]\n",
    "\n",
    "            # Atualiza valor da constante\n",
    "            b[i] = m*b[k] + b[i]\n",
    "            \n",
    "            # Garante zero e evita erro de arredondamento\n",
    "            A[i][k] = 0\n",
    "    \n",
    "    # Resolve o sistema retroativamente\n",
    "    x = retroativas(A,b)\n",
    "    return x"
   ]
  },
  {
   "cell_type": "code",
   "execution_count": 7,
   "metadata": {},
   "outputs": [
    {
     "data": {
      "text/plain": [
       "[2.0, -1.0, 3.0]"
      ]
     },
     "execution_count": 7,
     "metadata": {},
     "output_type": "execute_result"
    }
   ],
   "source": [
    "A = [[1, -3, 2],\n",
    "     [-2, 8, -1],\n",
    "     [4, -6, 5]]\n",
    "b = [11,-15,29]\n",
    "\n",
    "gauss(A,b)"
   ]
  },
  {
   "cell_type": "markdown",
   "metadata": {},
   "source": [
    "## Cálculo Residual"
   ]
  },
  {
   "cell_type": "code",
   "execution_count": 8,
   "metadata": {},
   "outputs": [],
   "source": [
    "from copy import deepcopy"
   ]
  },
  {
   "cell_type": "code",
   "execution_count": 9,
   "metadata": {},
   "outputs": [],
   "source": [
    "\n",
    "def residual(A, x, b):\n",
    "    \n",
    "    # Calcula a multiplicação de matrizes: A.x\n",
    "    Ax = [0 for _ in range(len(A))]\n",
    "    for i in range(len(A)):\n",
    "        for j in range(len(A[i])):\n",
    "            Ax[i] += A[i][j]*x[j]\n",
    "    \n",
    "    # Calcula o valor residual: r = b - A.x\n",
    "    r = []\n",
    "    for i in range(len(b)):\n",
    "        r.append(b[i] - Ax[i])\n",
    "    \n",
    "    # Retorna o resultado\n",
    "    return r"
   ]
  },
  {
   "cell_type": "code",
   "execution_count": 10,
   "metadata": {},
   "outputs": [
    {
     "data": {
      "text/plain": [
       "[0.0, 0.0, 0.0]"
      ]
     },
     "execution_count": 10,
     "metadata": {},
     "output_type": "execute_result"
    }
   ],
   "source": [
    "# Valores originais\n",
    "A = [[1, -3, 2],\n",
    "     [-2, 8, -1],\n",
    "     [4, -6, 5]]\n",
    "b = [11,-15,29]\n",
    "\n",
    "# Cópia para cálculos intermediários\n",
    "# Os valores iniciais seriam alterados na fórmula original\n",
    "# e isso impediria de realizar cálculos residuais.\n",
    "A1 = deepcopy(A)\n",
    "b1 = deepcopy(b)\n",
    "\n",
    "# Cálculo do valor residual\n",
    "residual(A, gauss(A1,b1), b)"
   ]
  }
 ],
 "metadata": {
  "kernelspec": {
   "display_name": ".venv",
   "language": "python",
   "name": "python3"
  },
  "language_info": {
   "codemirror_mode": {
    "name": "ipython",
    "version": 3
   },
   "file_extension": ".py",
   "mimetype": "text/x-python",
   "name": "python",
   "nbconvert_exporter": "python",
   "pygments_lexer": "ipython3",
   "version": "3.11.7"
  }
 },
 "nbformat": 4,
 "nbformat_minor": 2
}
