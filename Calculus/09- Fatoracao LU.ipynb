{
 "cells": [
  {
   "cell_type": "markdown",
   "metadata": {},
   "source": [
    "<strong>Universidade de São Paulo (USP) </strong>\\\n",
    "<strong>Discente</strong>: Carlos Filipe de Castro Lemos \\\n",
    "<strong>Implementação</strong>: Resolução de Sistemas - Método da Fatoração LU \\\n",
    "<strong>Fonte</strong>: https://www.youtube.com/playlist?list=PLomBG50UAP0m9ukqkap2GqlPXOBUq8FaL"
   ]
  },
  {
   "cell_type": "code",
   "execution_count": 33,
   "metadata": {},
   "outputs": [],
   "source": [
    "from copy import deepcopy"
   ]
  },
  {
   "cell_type": "code",
   "execution_count": 34,
   "metadata": {},
   "outputs": [],
   "source": [
    "def sucessivas(A, b):\n",
    "    n = len(A)\n",
    "    x = n * [0]\n",
    "    for i in range(0, n):\n",
    "        S = 0\n",
    "        for j in range(0, n-1): \n",
    "            S = S + A[i][j] * x[j]\n",
    "        x[i] = (b[i] - S)/A[i][i]\n",
    "    return x"
   ]
  },
  {
   "cell_type": "code",
   "execution_count": 35,
   "metadata": {},
   "outputs": [],
   "source": [
    "def retroativas(A, b):\n",
    "    n = len(A)\n",
    "    x = n * [0]\n",
    "    for i in range(n-1, -1, -1):\n",
    "        S = 0\n",
    "        for j in range(i+1, n): \n",
    "            S = S + A[i][j] * x[j]\n",
    "        x[i] = (b[i] - S)/A[i][i]\n",
    "    return x"
   ]
  },
  {
   "cell_type": "code",
   "execution_count": 36,
   "metadata": {},
   "outputs": [],
   "source": [
    "def fatoracaoLU(A):\n",
    "    # Coleta a ordem da matriz A.\n",
    "    n = len(A)\n",
    "\n",
    "    #Calcula L e U (A modificado)\n",
    "    L = [[1 if i == j else 0 for j in range(n)] for i in range(n)]\n",
    "    \n",
    "    for k in range(n-1): \n",
    "        for i in range(k+1, n):\n",
    "            m = -A[i][k]/A[k][k]\n",
    "            L[i][k] = -m\n",
    "            for j in range(k+1, n):\n",
    "                A[i][j] = m*A[k][j] + A[i][j]\n",
    "            A[i][k] = 0\n",
    "    \n",
    "    return (L, A)"
   ]
  },
  {
   "cell_type": "code",
   "execution_count": 37,
   "metadata": {},
   "outputs": [],
   "source": [
    "def LUxb(A, b):\n",
    "    \"\"\" \n",
    "        L.U.x = b\n",
    "        U.x = y (Calcula x com retroativas)\n",
    "        Ly = b (Calcula y com sucessivas)\n",
    "    \"\"\"\n",
    "    (L, U) = fatoracaoLU(A)\n",
    "    y = sucessivas(L, b)\n",
    "    x = retroativas(U, y)\n",
    "    return x"
   ]
  },
  {
   "cell_type": "code",
   "execution_count": 38,
   "metadata": {},
   "outputs": [
    {
     "data": {
      "text/plain": [
       "[2.0, -1.0, 3.0]"
      ]
     },
     "execution_count": 38,
     "metadata": {},
     "output_type": "execute_result"
    }
   ],
   "source": [
    "# Valores originais\n",
    "A = [[1, -3, 2],\n",
    "     [-2, 8, -1],\n",
    "     [4, -6, 5]]\n",
    "b = [11,-15,29]\n",
    "\n",
    "# Cálculo do valor residual\n",
    "LUxb(A, b)"
   ]
  },
  {
   "cell_type": "code",
   "execution_count": 39,
   "metadata": {},
   "outputs": [
    {
     "data": {
      "text/plain": [
       "[5.0, 2.0, 1.0]"
      ]
     },
     "execution_count": 39,
     "metadata": {},
     "output_type": "execute_result"
    }
   ],
   "source": [
    "# Valores originais\n",
    "A = [[1, 2, 4],\n",
    "     [2, 0, 2],\n",
    "     [4, 1, 3]]\n",
    "b = [13,12,25]\n",
    "\n",
    "# Cálculo do valor residual\n",
    "LUxb(A, b)"
   ]
  }
 ],
 "metadata": {
  "kernelspec": {
   "display_name": ".venv",
   "language": "python",
   "name": "python3"
  },
  "language_info": {
   "codemirror_mode": {
    "name": "ipython",
    "version": 3
   },
   "file_extension": ".py",
   "mimetype": "text/x-python",
   "name": "python",
   "nbconvert_exporter": "python",
   "pygments_lexer": "ipython3",
   "version": "3.11.7"
  }
 },
 "nbformat": 4,
 "nbformat_minor": 2
}
