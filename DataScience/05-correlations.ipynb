{
 "cells": [
  {
   "cell_type": "markdown",
   "metadata": {},
   "source": [
    "**UNIVERSIDADE DE SÃO PAULO (USP)**\n",
    "\n",
    "**_Author_**: Carlos Filipe de Castro Lemos\n",
    "\n",
    "**_Academic Study_**: Correlations"
   ]
  },
  {
   "cell_type": "markdown",
   "metadata": {},
   "source": [
    "# CORRELATIONS"
   ]
  },
  {
   "cell_type": "markdown",
   "metadata": {},
   "source": [
    "## REMEMBER FROM STATISTICS"
   ]
  },
  {
   "cell_type": "markdown",
   "metadata": {},
   "source": [
    "### Discrete Variables"
   ]
  },
  {
   "cell_type": "markdown",
   "metadata": {},
   "source": [
    "Covariance\n",
    "\n",
    "$$Cov(X,Y) = E[(X-E(X)) (Y-E(Y))]$$\n",
    "$$= E[XY - X.E(Y) - Y.E(X) + E(X).E(Y)]$$\n",
    "$$= E(XY) - E(X).E(Y) - E(Y).E(X) + E(X).E(Y)$$\n",
    "$$= E(XY) - E(X).E(Y)$$\n",
    "\n",
    "$$\\therefore Cov(X,Y) = E(XY) - E(X).E(Y)$$"
   ]
  },
  {
   "cell_type": "markdown",
   "metadata": {},
   "source": [
    "Correlation Coefficient\n",
    "\n",
    "$$\\rho(X,Y) = \\frac{Cov(X,Y)}{\\sigma(X)\\sigma(Y)}$$\n",
    "\n",
    "Where:\n",
    "* $Cov(X,Y) = E(XY) - E(X).E(Y)$\n",
    "* $\\sigma(X) = \\sqrt{\\sigma^{2}(X)}$\n",
    "* $\\sigma(Y) = \\sqrt{\\sigma^{2}(Y)}$"
   ]
  },
  {
   "cell_type": "markdown",
   "metadata": {},
   "source": [
    "### Continuous Variables"
   ]
  },
  {
   "cell_type": "markdown",
   "metadata": {},
   "source": [
    "Joint Probability Density Function \n",
    "\n",
    "$$\\int_{a}^{b}\\int_{c}^{d}f(x,y)\\mathrm{d}x\\mathrm{d}y$$\n",
    "\n",
    "Where:\n",
    "* $f(x,y) \\geq 0$\n",
    "* $\\int_{a}^{b}\\int_{c}^{d}f(x,y)\\mathrm{d}y\\mathrm{d}x$ = 1\n",
    "* $P(a\\leq x \\leq b, c \\leq y \\leq d) = \\int_{a}^{b}\\int_{c}^{d}f(x,y)\\mathrm{d}y\\mathrm{d}x$"
   ]
  },
  {
   "cell_type": "markdown",
   "metadata": {},
   "source": [
    "Marginal Probability Density Function \n",
    "\n",
    "$$f_{x}(x) = \\int_{\\infty}^{-\\infty}f(x,y)\\mathrm{d}y$$\n",
    "$$f_{y}(y) = \\int_{\\infty}^{-\\infty}f(x,y)\\mathrm{d}x$$"
   ]
  },
  {
   "cell_type": "markdown",
   "metadata": {},
   "source": [
    "Independent Variables\n",
    "\n",
    "$$f(x,y) = f_{x}(x).f_{y}(y)$$\n",
    "\n",
    "For example:\n",
    "\n",
    "$f(x,y) = e^{-x-y}, x > 0, y > 0,$\n",
    "$f_{x}(x) = e^{-x}, x > 0,$\n",
    "$f_{y}(y) = e^{-y}, y > 0.$\n"
   ]
  },
  {
   "cell_type": "markdown",
   "metadata": {},
   "source": [
    "## Pearson Correlation"
   ]
  },
  {
   "cell_type": "markdown",
   "metadata": {},
   "source": [
    "## Spearman Correlation"
   ]
  },
  {
   "cell_type": "markdown",
   "metadata": {},
   "source": [
    "## Coeficiente de Kendall"
   ]
  },
  {
   "cell_type": "markdown",
   "metadata": {},
   "source": [
    "## Coeficiente de Goodman and Kruskal's Gamma"
   ]
  }
 ],
 "metadata": {
  "kernelspec": {
   "display_name": "DataPackages",
   "language": "python",
   "name": "python3"
  },
  "language_info": {
   "name": "python",
   "version": "3.11.5"
  },
  "orig_nbformat": 4
 },
 "nbformat": 4,
 "nbformat_minor": 2
}
