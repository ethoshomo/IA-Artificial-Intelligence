{
 "cells": [
  {
   "cell_type": "markdown",
   "metadata": {},
   "source": [
    "**UNIVERSIDADE DE SÃO PAULO (USP)**\n",
    "\n",
    "**_Author_**: Carlos Filipe de Castro Lemos\n",
    "\n",
    "**_Academic Study_**: Bernoulli and Binomial Distribution"
   ]
  },
  {
   "cell_type": "markdown",
   "metadata": {},
   "source": [
    "# Bernoulli and Binomial Distribution"
   ]
  },
  {
   "cell_type": "code",
   "execution_count": 1,
   "metadata": {},
   "outputs": [],
   "source": [
    "import random\n",
    "import math\n",
    "import numpy as np\n",
    "import seaborn as sns\n",
    "import matplotlib.pyplot as plt\n",
    "\n",
    "from scipy.stats import bernoulli, binom"
   ]
  },
  {
   "cell_type": "markdown",
   "metadata": {},
   "source": [
    "## Bernoulli Distribution"
   ]
  },
  {
   "cell_type": "markdown",
   "metadata": {},
   "source": [
    "The Bernoulli Distribution is related to success (1 - True) and failure (0 - False). In this context, the test is related to the result of a single experiment."
   ]
  },
  {
   "cell_type": "markdown",
   "metadata": {},
   "source": [
    "### Probability Mass Function (PMF)"
   ]
  },
  {
   "cell_type": "markdown",
   "metadata": {},
   "source": [
    "$$\n",
    "P(X = x)=\n",
    "\\begin{cases}\n",
    "p^{x}*(1-p)^{(1-x)}, & \\quad \\text{if } x = 0 (Failure), 1 (Success)\\\\ \n",
    "0 & \\quad \\text{if x = otherwise}\n",
    "\\end{cases}\n",
    "$$"
   ]
  },
  {
   "cell_type": "code",
   "execution_count": 2,
   "metadata": {},
   "outputs": [],
   "source": [
    "def bernoulli_pmf(x, p):\n",
    "    \"\"\" \n",
    "    x: indicates success (1) or failure (0)\n",
    "    p: percentage off success\n",
    "    \"\"\"\n",
    "    return p**x*(1-p)**(1-x)"
   ]
  },
  {
   "cell_type": "code",
   "execution_count": 3,
   "metadata": {},
   "outputs": [
    {
     "name": "stdout",
     "output_type": "stream",
     "text": [
      "0.3 0.7\n"
     ]
    }
   ],
   "source": [
    "p = 0.3\n",
    "success = bernoulli_pmf(1, p)\n",
    "failure = bernoulli_pmf(0, p)\n",
    "print(success, failure)"
   ]
  },
  {
   "cell_type": "markdown",
   "metadata": {},
   "source": [
    "### Probability Mass Function Chart"
   ]
  },
  {
   "cell_type": "code",
   "execution_count": 4,
   "metadata": {},
   "outputs": [
    {
     "data": {
      "image/png": "[encoded data removed]",
      "text/plain": [
       "<Figure size 600x400 with 1 Axes>"
      ]
     },
     "metadata": {},
     "output_type": "display_data"
    }
   ],
   "source": [
    "\n",
    "bernoulli_x = [\"Fracasso\",\"Sucesso\"]\n",
    "bernoulli_y = [bernoulli_pmf(0, p), bernoulli_pmf(1, p)]\n",
    "\n",
    "plt.figure(figsize=(6,4))\n",
    "plt.bar(bernoulli_x,bernoulli_y)\n",
    "plt.title(\"Bernoulli - Probability Mass Function Chart\")\n",
    "plt.xlabel(\"Results\")\n",
    "plt.ylabel(\"Probability\")\n",
    "plt.show()"
   ]
  },
  {
   "cell_type": "markdown",
   "metadata": {},
   "source": [
    "### Expectation (E(X))"
   ]
  },
  {
   "cell_type": "markdown",
   "metadata": {},
   "source": [
    "As it is a discrete variable, the expectation of the bernoulli distribution can be calculated as follows:\n",
    "\n",
    "$$\\mu = E(x) = \\sum^{i}_{x=0} xP(x) = 0.P(0) + 1.P(1) = p^{1}*(1-p)^{1-1} = p$$"
   ]
  },
  {
   "cell_type": "code",
   "execution_count": 5,
   "metadata": {},
   "outputs": [],
   "source": [
    "def bernoulli_expectation(p):\n",
    "    return p"
   ]
  },
  {
   "cell_type": "markdown",
   "metadata": {},
   "source": [
    "### Variance (Var(X))"
   ]
  },
  {
   "cell_type": "markdown",
   "metadata": {},
   "source": [
    "\n",
    "$$\\sigma^{2} = Var(X) = \\frac{\\sum^{i}_{x=0} E[(x_{i} - E(X))^{2}]}{n} = E[X^{2}] - (E[X])^{2}$$\n",
    "\n",
    "$$ = (0^{2}.p(0) + 1^{2}.p(1)) - (0.p(0) + 1.p(1))^{2}$$\n",
    "\n",
    "$$= p(1) - p(1)^{2}$$\n",
    "\n",
    "$$= p - p^{2}$$\n",
    "\n",
    "$$ = p(1-p)$$"
   ]
  },
  {
   "cell_type": "code",
   "execution_count": 6,
   "metadata": {},
   "outputs": [],
   "source": [
    "def bernoulli_variance(p):\n",
    "    return p*(1-p)"
   ]
  },
  {
   "cell_type": "markdown",
   "metadata": {},
   "source": [
    "### Standard Deviation (STD(X))"
   ]
  },
  {
   "cell_type": "markdown",
   "metadata": {},
   "source": [
    "$$STD(X) = \\sqrt{\\sigma^{2}(X)}$$"
   ]
  },
  {
   "cell_type": "code",
   "execution_count": 7,
   "metadata": {},
   "outputs": [],
   "source": [
    "def bernoulli_std(p):\n",
    "    return bernoulli_variance(p)**(1/2)"
   ]
  },
  {
   "cell_type": "markdown",
   "metadata": {},
   "source": [
    "### TESTING"
   ]
  },
  {
   "cell_type": "code",
   "execution_count": 8,
   "metadata": {},
   "outputs": [],
   "source": [
    "p = 0.3"
   ]
  },
  {
   "cell_type": "code",
   "execution_count": 9,
   "metadata": {},
   "outputs": [
    {
     "name": "stdout",
     "output_type": "stream",
     "text": [
      "Drawn Value (HardCoded):  [1]\n",
      "Drawn Value (Scipy):  [1]\n",
      "Drawn Value (Numpy):  [0]\n"
     ]
    }
   ],
   "source": [
    "# Example\n",
    "\n",
    "# Hard Coded\n",
    "bernoulli_randomic = random.random()\n",
    "if bernoulli_randomic <= p:\n",
    "    bernoulli_randomic = np.array([1]) # Success\n",
    "else:\n",
    "    bernoulli_randomic = np.array([0]) # Failure\n",
    "\n",
    "\n",
    "# Scipy\n",
    "bernoulli_scipy = bernoulli(p).rvs(size=1)\n",
    "\n",
    "# Numpy\n",
    "bernoulli_numpy = np.random.binomial(1, p, size=1)\n",
    "\n",
    "print(\"Drawn Value (HardCoded): \", bernoulli_randomic)\n",
    "print(\"Drawn Value (Scipy): \", bernoulli_scipy)\n",
    "print(\"Drawn Value (Numpy): \", bernoulli_numpy)"
   ]
  },
  {
   "cell_type": "code",
   "execution_count": 10,
   "metadata": {},
   "outputs": [],
   "source": [
    "# Scipy\n",
    "bernoulli_scipy = bernoulli(p).rvs(size=1)\n",
    "# Numpy\n",
    "bernoulli_numpy = np.random.binomial(1, p, size=1)"
   ]
  },
  {
   "cell_type": "code",
   "execution_count": 11,
   "metadata": {},
   "outputs": [
    {
     "name": "stdout",
     "output_type": "stream",
     "text": [
      "HARD CODED\n",
      "p = 0.3\n",
      "Success (p):  0.3\n",
      "Failure (1-p):  0.7\n",
      "E(X):  0.3\n",
      "Var(X):  0.21\n",
      "STD(X):  0.458257569495584\n"
     ]
    }
   ],
   "source": [
    "print(\"HARD CODED\")\n",
    "print(f\"p = {p}\")\n",
    "print(\"Success (p): \", bernoulli_pmf(1,p))\n",
    "print(\"Failure (1-p): \", bernoulli_pmf(0,p))\n",
    "print(\"E(X): \", bernoulli_expectation(p))\n",
    "print(\"Var(X): \", bernoulli_variance(p))\n",
    "print(\"STD(X): \", bernoulli_std(p))"
   ]
  },
  {
   "cell_type": "code",
   "execution_count": 12,
   "metadata": {},
   "outputs": [
    {
     "name": "stdout",
     "output_type": "stream",
     "text": [
      "SCIPY\n",
      "p = 0.3\n",
      "Success (p):  0.3\n",
      "Failure (1-p):  0.7\n",
      "E(X):  0.3\n",
      "Var(X):  0.21\n",
      "STD(X):  0.458257569495584\n"
     ]
    }
   ],
   "source": [
    "print(\"SCIPY\")\n",
    "print(f\"p = {p}\")\n",
    "print(\"Success (p): \", p)\n",
    "print(\"Failure (1-p): \", 1-p)\n",
    "print(\"E(X): \", bernoulli.mean(p, loc=0))\n",
    "print(\"Var(X): \", bernoulli.var(p, loc=0))\n",
    "print(\"STD(X): \", bernoulli.std(p, loc=0))\n"
   ]
  },
  {
   "cell_type": "markdown",
   "metadata": {},
   "source": [
    "## Binomial Distribution"
   ]
  },
  {
   "cell_type": "markdown",
   "metadata": {},
   "source": [
    "The binomial distribution is used when we have a set of Bernoulli results. In other words, a single result is understood as Bernoulli, but a set of Bernoulli results is a Binomial distribution.\n",
    "\n",
    "As characteristics of a binomial experiment, we have the following:\n",
    "\n",
    "* The number of attempts is fixed (n).\n",
    "\n",
    "* The `n` trials are independent and repeated under identical conditions. Then, in all sample events, the elements drawn or thrown will be returned to the sample space to carry out a new event.\n",
    "\n",
    "* For each attempt there will only be two possible outcomes (`success` or `failure`).\n",
    "\n",
    "* The probability of success will be `P('success') = p` and that of `P('failure') = 1-p`.\n",
    "\n",
    "* The central problem of the model only covers determining the probability of `k` successes in `n` attempts.\n",
    "\n",
    "In this case, we can calculate probabilities such as getting 4 out of 10 questions right on a test."
   ]
  },
  {
   "cell_type": "markdown",
   "metadata": {},
   "source": [
    "### Probabily Mass Function (PMF)"
   ]
  },
  {
   "cell_type": "markdown",
   "metadata": {},
   "source": [
    "$$f(k; n, p) = \\binom{n}{k}p^{k}(1-p)^{n-k}$$\n",
    "    \n",
    "$$ = \\dfrac{n!}{k!(n-k)!}p^{k}(1-p)^{n-k}$$"
   ]
  },
  {
   "cell_type": "code",
   "execution_count": 13,
   "metadata": {},
   "outputs": [],
   "source": [
    "p = 0.5\n",
    "n = 10"
   ]
  },
  {
   "cell_type": "code",
   "execution_count": 14,
   "metadata": {},
   "outputs": [],
   "source": [
    "def binomial_pmf(p, n, k):\n",
    "    \"\"\" \n",
    "    n: number of experiments\n",
    "    k: number of successfull experiments\n",
    "    p: percentage off success\n",
    "    \"\"\"\n",
    "    numerator = math.factorial(n)\n",
    "    denominator = math.factorial(k)*math.factorial(n-k)\n",
    "    binomial = numerator/denominator\n",
    "    s = p**k\n",
    "    f = (1-p)**(n-k)\n",
    "    return binomial*s*f"
   ]
  },
  {
   "cell_type": "code",
   "execution_count": 15,
   "metadata": {},
   "outputs": [
    {
     "name": "stdout",
     "output_type": "stream",
     "text": [
      "[0, 1, 2, 3, 4, 5, 6, 7, 8, 9]\n",
      "[0.0009765625, 0.009765625, 0.0439453125, 0.1171875, 0.205078125, 0.24609375, 0.205078125, 0.1171875, 0.0439453125, 0.009765625]\n"
     ]
    }
   ],
   "source": [
    "binomial_x = [x for x in range(n)]\n",
    "binomial_y = [binomial_pmf(p, n, k) for k in binomial_x]\n",
    "\n",
    "print(binomial_x)\n",
    "print(binomial_y)"
   ]
  },
  {
   "cell_type": "markdown",
   "metadata": {},
   "source": [
    "### Probability Mass Function Chart"
   ]
  },
  {
   "cell_type": "code",
   "execution_count": 16,
   "metadata": {},
   "outputs": [
    {
     "data": {
      "image/png": "[encoded data removed]",
      "text/plain": [
       "<Figure size 400x400 with 1 Axes>"
      ]
     },
     "metadata": {},
     "output_type": "display_data"
    }
   ],
   "source": [
    "plt.figure(figsize=(4,4))\n",
    "plt.bar(binomial_x,binomial_y)\n",
    "plt.title(\"Binomial - Probability Mass Function Chart\")\n",
    "plt.xlabel(\"Number of Successes (p) in Attempts (n)\")\n",
    "plt.ylabel(\"Probability\")\n",
    "plt.show()"
   ]
  },
  {
   "cell_type": "markdown",
   "metadata": {},
   "source": [
    "### Cumulative Distribution Function (CDF)"
   ]
  },
  {
   "cell_type": "code",
   "execution_count": 17,
   "metadata": {},
   "outputs": [
    {
     "data": {
      "image/png": "[encoded data removed]",
      "text/plain": [
       "<Figure size 400x400 with 1 Axes>"
      ]
     },
     "metadata": {},
     "output_type": "display_data"
    }
   ],
   "source": [
    "before = 0\n",
    "binomial_y_cumulative = []\n",
    "for number in binomial_y:\n",
    "    before = before + number\n",
    "    binomial_y_cumulative.append(before)\n",
    "\n",
    "plt.figure(figsize=(4,4))\n",
    "plt.bar(binomial_x,binomial_y_cumulative)\n",
    "plt.title(\"Binomial - Probability Mass Function Chart\")\n",
    "plt.xlabel(\"Results\")\n",
    "plt.ylabel(\"Probability\")\n",
    "plt.show()"
   ]
  },
  {
   "cell_type": "markdown",
   "metadata": {},
   "source": [
    "### Expectation (E(X))"
   ]
  },
  {
   "cell_type": "markdown",
   "metadata": {},
   "source": [
    "The binomial expectation is calculated by calculating the expectation of each value in the set individually considered. In this case, we will have 'n' times the value of the Bernoulli distribution.\n",
    "\n",
    "$$E(X)= n*p$$"
   ]
  },
  {
   "cell_type": "code",
   "execution_count": 18,
   "metadata": {},
   "outputs": [],
   "source": [
    "def binomial_expectation(n, p):\n",
    "    return n*p"
   ]
  },
  {
   "cell_type": "code",
   "execution_count": 19,
   "metadata": {},
   "outputs": [
    {
     "name": "stdout",
     "output_type": "stream",
     "text": [
      "Expectation (Hard Coded):  5.0\n",
      "Expectation (Scipy):  5.0\n"
     ]
    }
   ],
   "source": [
    "b_expectation = binomial_expectation(n, p)\n",
    "b_scipy_expectation = binom.mean(n, p, loc=0)\n",
    "\n",
    "print(\"Expectation (Hard Coded): \", b_expectation)\n",
    "print(\"Expectation (Scipy): \", b_scipy_expectation)"
   ]
  },
  {
   "cell_type": "markdown",
   "metadata": {},
   "source": [
    "### Variance (Var(x))"
   ]
  },
  {
   "cell_type": "markdown",
   "metadata": {},
   "source": [
    "The binomial variance is calculated by calculating the variance of each value in the set individually considered. In this case, we will have 'n' times the value of the Bernoulli distribution.\n",
    "\n",
    "$$Var(X)= n*p*(p-1)$$"
   ]
  },
  {
   "cell_type": "code",
   "execution_count": 20,
   "metadata": {},
   "outputs": [],
   "source": [
    "def binomial_variance(n,p):\n",
    "    return n*p*(1-p)"
   ]
  },
  {
   "cell_type": "code",
   "execution_count": 21,
   "metadata": {},
   "outputs": [
    {
     "name": "stdout",
     "output_type": "stream",
     "text": [
      "Variance (Hard Coded):  2.5\n",
      "Variance (Scipy):  2.5\n"
     ]
    }
   ],
   "source": [
    "b_var = binomial_variance(n, p)\n",
    "b_scipy_var = binom.var(n, p, loc=0)\n",
    "\n",
    "print(\"Variance (Hard Coded): \", b_var)\n",
    "print(\"Variance (Scipy): \", b_scipy_var)"
   ]
  },
  {
   "cell_type": "markdown",
   "metadata": {},
   "source": [
    "### Standard Deviation (STD(X))"
   ]
  },
  {
   "cell_type": "code",
   "execution_count": 22,
   "metadata": {},
   "outputs": [],
   "source": [
    "def binomial_std(n,p):\n",
    "    return binomial_variance(n,p)**(1/2)"
   ]
  },
  {
   "cell_type": "code",
   "execution_count": 23,
   "metadata": {},
   "outputs": [
    {
     "name": "stdout",
     "output_type": "stream",
     "text": [
      "STD (Hard Coded):  1.5811388300841898\n",
      "STD (Scipy):  1.5811388300841898\n"
     ]
    }
   ],
   "source": [
    "b_std = binomial_std(n, p)\n",
    "b_scipy_std = binom.std(n, p, loc=0)\n",
    "\n",
    "print(\"STD (Hard Coded): \", b_std)\n",
    "print(\"STD (Scipy): \", b_scipy_std)"
   ]
  }
 ],
 "metadata": {
  "kernelspec": {
   "display_name": "DataPackages",
   "language": "python",
   "name": "python3"
  },
  "language_info": {
   "codemirror_mode": {
    "name": "ipython",
    "version": 3
   },
   "file_extension": ".py",
   "mimetype": "text/x-python",
   "name": "python",
   "nbconvert_exporter": "python",
   "pygments_lexer": "ipython3",
   "version": "3.11.5"
  }
 },
 "nbformat": 4,
 "nbformat_minor": 2
}
