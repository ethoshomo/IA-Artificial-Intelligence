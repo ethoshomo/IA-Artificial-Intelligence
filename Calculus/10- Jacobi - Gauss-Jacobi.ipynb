{
 "cells": [
  {
   "cell_type": "markdown",
   "metadata": {},
   "source": [
    "<strong>Universidade de São Paulo (USP) </strong>\\\n",
    "<strong>Discente</strong>: Carlos Filipe de Castro Lemos \\\n",
    "<strong>Implementação</strong>: Método de Resolução de Sistemas Iterativo - Gauss-Jacobi \\\n",
    "<strong>Fonte</strong>: https://www.youtube.com/playlist?list=PLomBG50UAP0m9ukqkap2GqlPXOBUq8FaL"
   ]
  },
  {
   "cell_type": "markdown",
   "metadata": {},
   "source": [
    "A norma entre dois vetores será calculada da seguinte forma:\n",
    "\n",
    "$$ \\frac{max_{1 \\leq i \\leq n}|v_{i} - x_{i}|}{max_{1 \\leq i \\leq n} |v_{i}|}$$"
   ]
  },
  {
   "cell_type": "code",
   "execution_count": 7,
   "metadata": {},
   "outputs": [],
   "source": [
    "def norma(v, x):\n",
    "\n",
    "    # Seleciona a dimensão do vetor\n",
    "    n = len(v)\n",
    "\n",
    "    # Calcula numerador e denominador\n",
    "    max_num = 0\n",
    "    max_den = 0\n",
    "    for i in range(n):\n",
    "        num = abs(v[i] - x[i])\n",
    "        if num > max_num: max_num = num\n",
    "        if abs(v[i]) > max_den: max_den = abs(v[i])\n",
    "\n",
    "    # Confere divisão por zero\n",
    "    if max_den == 0: return 'Erro: Divisão por Zero'\n",
    "\n",
    "    # Executa cálculo e retorna resultado\n",
    "    return max_num/max_den"
   ]
  },
  {
   "cell_type": "code",
   "execution_count": 8,
   "metadata": {},
   "outputs": [],
   "source": [
    "def gauss_jacobi(A, b, epsilon, interMax = 50):\n",
    "    \n",
    "    # Preparar a Matriz A e o vetor b para iterações\n",
    "    n = len(A)\n",
    "    x = n * [0]\n",
    "    v = n * [0]    \n",
    "\n",
    "    for i in range(n):\n",
    "        for j in range(n):\n",
    "            if i != j:\n",
    "                A[i][j] /= A[i][i]\n",
    "        b[i] /= A[i][i]\n",
    "        x[i] = b[i]\n",
    "\n",
    "    # Realiza as iterações. Para cada iteração K:\n",
    "    #   - Calcula o vetor V (x^k+1) com a aproximação atual\n",
    "    #   - Calcular d (norma-infinita) entre V e X\n",
    "    #     usando outra função \n",
    "        \n",
    "    for k in range(1, interMax+1):\n",
    "        for i in range(n):\n",
    "            somatorio = 0\n",
    "            for j in range(n):\n",
    "                if i != j:\n",
    "                    somatorio += A[i][j] * x[j]\n",
    "            v[i] = b[i] - somatorio\n",
    "        \n",
    "        # Calcula a norma\n",
    "        d = norma(v,x)\n",
    "        if d <= epsilon: return v\n",
    "\n",
    "        # Atualiza x por cópia e não referência.\n",
    "        x = v[:]\n",
    "\n",
    "    print('Número máximo de iterações atingido')\n",
    "    return x"
   ]
  },
  {
   "cell_type": "markdown",
   "metadata": {},
   "source": [
    "Calcular o sistema abaixo:\n",
    "$$\n",
    "\\begin{cases}\n",
    "10x_{1} + 2x_{2}+ x_{3} = 7 \\\\ \n",
    "x_{1} + 5x_{2}+ x_{3} = -8 \\\\ \n",
    "2x_{1} + 3x_{2}+ 10x_{3} = 6\n",
    "\\end{cases}\n",
    "\\\\ \\\\\n",
    "\\text{com }\\epsilon = 0.05\n",
    "$$"
   ]
  },
  {
   "cell_type": "code",
   "execution_count": 9,
   "metadata": {},
   "outputs": [
    {
     "data": {
      "text/plain": [
       "[0.9994, -1.9888000000000001, 0.9984]"
      ]
     },
     "execution_count": 9,
     "metadata": {},
     "output_type": "execute_result"
    }
   ],
   "source": [
    "A = [[10, 2, 1],\n",
    "     [ 1, 5, 1],\n",
    "     [ 2, 3,10]]\n",
    "b = [7, -8, 6]\n",
    "\n",
    "gauss_jacobi(A,b, 0.05)"
   ]
  },
  {
   "cell_type": "code",
   "execution_count": 10,
   "metadata": {},
   "outputs": [
    {
     "data": {
      "text/plain": [
       "[1.000001683824, -1.999997692128, 1.0000024307039999]"
      ]
     },
     "execution_count": 10,
     "metadata": {},
     "output_type": "execute_result"
    }
   ],
   "source": [
    "A = [[10, 2, 1],\n",
    "     [ 1, 5, 1],\n",
    "     [ 2, 3,10]]\n",
    "b = [7, -8, 6]\n",
    "\n",
    "gauss_jacobi(A,b, 0.00001)"
   ]
  },
  {
   "cell_type": "markdown",
   "metadata": {},
   "source": [
    "## Anotações"
   ]
  },
  {
   "cell_type": "markdown",
   "metadata": {},
   "source": [
    "* A implementação do métodos de Gauss-JAcobi converge mais lentamente do que Gauss-Seidel, mas pode ser paralelizável, afinal, cada x pode ser computado de forma independente.\n",
    "\n",
    "* Métodos iterativos têm menos problemas com erros de arredondamento. Isso ocorre porque, depois de assegurada a convergência, o resultado final independe da aproximação inicial; ou seja, apenas os erros cometidos na última iteração afetam a solução.\n",
    "\n",
    "* Os métodos iterativos apresentam custo computacional de operações na ordem de kn², onde k é o número de iterações. Por isso, são mais eficientes que os métodos diretos. Além disso, em sistemas muito grandes, podemos restringir o número de operações que produzam um resultado aceitável (por exemplo, 10 iterações em um sistema de iluminação de 10.000 x 10.000)."
   ]
  }
 ],
 "metadata": {
  "kernelspec": {
   "display_name": ".venv",
   "language": "python",
   "name": "python3"
  },
  "language_info": {
   "codemirror_mode": {
    "name": "ipython",
    "version": 3
   },
   "file_extension": ".py",
   "mimetype": "text/x-python",
   "name": "python",
   "nbconvert_exporter": "python",
   "pygments_lexer": "ipython3",
   "version": "3.11.7"
  }
 },
 "nbformat": 4,
 "nbformat_minor": 2
}
