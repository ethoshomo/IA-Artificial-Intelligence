{
 "cells": [
  {
   "cell_type": "markdown",
   "metadata": {},
   "source": [
    "<strong>Universidade de São Paulo (USP) </strong>\\\n",
    "<strong>Discente</strong>: Carlos Filipe de Castro Lemos \\\n",
    "<strong>Implementação</strong>: Resolução de Sistemas - Método de Gauss-Jordan \\\n",
    "<strong>Fonte</strong>: https://www.youtube.com/playlist?list=PLomBG50UAP0m9ukqkap2GqlPXOBUq8FaL"
   ]
  },
  {
   "cell_type": "code",
   "execution_count": 69,
   "metadata": {},
   "outputs": [],
   "source": [
    "from copy import deepcopy"
   ]
  },
  {
   "cell_type": "code",
   "execution_count": 70,
   "metadata": {},
   "outputs": [],
   "source": [
    "def gauss_jordan(A,b):\n",
    "\n",
    "    # Ordem da Matriz A\n",
    "    n = len(A)\n",
    "\n",
    "    # Etapas K: seleciona a coluna da remoção\n",
    "    for k in range(n): \n",
    "        \n",
    "        # Tranformar pivot em 1\n",
    "        for j in range(k+1, n):\n",
    "            A[k][j] /= A[k][k]\n",
    "        b[k] /= A[k][k]\n",
    "        A[k][k] = 1\n",
    "\n",
    "        # Seleciona a linha da remoção\n",
    "        for i in range(0, n):\n",
    "            \n",
    "            # Caso seja o pivot, pula\n",
    "            if i == k: continue \n",
    "\n",
    "            # Atualiza valores da linha inteira\n",
    "            for j in range(k+1, n):\n",
    "                A[i][j] += -A[i][k]*A[k][j]\n",
    "\n",
    "            # Atualiza valor da constante\n",
    "            b[i] += -A[i][k] * b[k]\n",
    "            \n",
    "            # Garante zero e evita erro de arredondamento\n",
    "            A[i][k] = 0\n",
    "\n",
    "    return b"
   ]
  },
  {
   "cell_type": "code",
   "execution_count": 71,
   "metadata": {},
   "outputs": [
    {
     "data": {
      "text/plain": [
       "[-2.9999999999999996, 5.0, 8.326672684688674e-17]"
      ]
     },
     "execution_count": 71,
     "metadata": {},
     "output_type": "execute_result"
    }
   ],
   "source": [
    "A = [[3,2,4],\n",
    "     [1,1,2],\n",
    "     [4,3,-2]]\n",
    "b = [1,2,3]\n",
    "copyA = deepcopy(A)\n",
    "copyB = deepcopy(b)\n",
    "\n",
    "gauss_jordan(copyA, copyB)"
   ]
  },
  {
   "cell_type": "code",
   "execution_count": 72,
   "metadata": {},
   "outputs": [
    {
     "data": {
      "text/plain": [
       "[-1.5, -0.5, 1.5]"
      ]
     },
     "execution_count": 72,
     "metadata": {},
     "output_type": "execute_result"
    }
   ],
   "source": [
    "A = [[2,1,3],\n",
    "     [0,-1,1],\n",
    "     [1,0,3]]\n",
    "b = [1,2,3]\n",
    "copyA = deepcopy(A)\n",
    "copyB = deepcopy(b)\n",
    "\n",
    "gauss_jordan(copyA, copyB)"
   ]
  },
  {
   "cell_type": "code",
   "execution_count": 73,
   "metadata": {},
   "outputs": [
    {
     "data": {
      "text/plain": [
       "[-2.0000000000000004, 3.0, 0.9999999999999998]"
      ]
     },
     "execution_count": 73,
     "metadata": {},
     "output_type": "execute_result"
    }
   ],
   "source": [
    "A = [[1,4,-2],\n",
    "     [5,7,-5],\n",
    "     [-3,2,-6]]\n",
    "b = [8,6,6]\n",
    "copyA = deepcopy(A)\n",
    "copyB = deepcopy(b)\n",
    "\n",
    "gauss_jordan(copyA, copyB)"
   ]
  }
 ],
 "metadata": {
  "kernelspec": {
   "display_name": ".venv",
   "language": "python",
   "name": "python3"
  },
  "language_info": {
   "codemirror_mode": {
    "name": "ipython",
    "version": 3
   },
   "file_extension": ".py",
   "mimetype": "text/x-python",
   "name": "python",
   "nbconvert_exporter": "python",
   "pygments_lexer": "ipython3",
   "version": "3.11.7"
  }
 },
 "nbformat": 4,
 "nbformat_minor": 2
}
