{
 "cells": [
  {
   "cell_type": "markdown",
   "metadata": {},
   "source": [
    "# <center>NUMPY</center>"
   ]
  },
  {
   "cell_type": "markdown",
   "metadata": {},
   "source": [
    "* Computação Científica: facilita as operações matemáticas avançadas e outros tipos de operações em muitos dados.\n",
    "\n",
    "* Trabalha com Objetos de Matriz Multidimensional.\n",
    "\n",
    "* Variedade de Rotinas para Operações Rápidas em Matrizes\n",
    "\n",
    "* Os arrays NumPy têm um tamanho fixo na criação, ao contrário das listas Python (que podem crescer dinamicamente).\n",
    "\n",
    "* Os elementos em uma matriz numpy devem ser todos do mesmo tipo de dados e, portanto, terão o mesmo tamanho."
   ]
  },
  {
   "cell_type": "code",
   "execution_count": 162,
   "metadata": {},
   "outputs": [],
   "source": [
    "import numpy as np"
   ]
  },
  {
   "cell_type": "markdown",
   "metadata": {},
   "source": [
    "## Criação de Matrizes"
   ]
  },
  {
   "cell_type": "markdown",
   "metadata": {},
   "source": [
    "### Matrizes Unidimensionais"
   ]
  },
  {
   "cell_type": "markdown",
   "metadata": {},
   "source": [
    "* Matrizes unidimensionais podem ser confundidas com vetores de caracteres e podem ser criadas passando-se como parâmetro uma lista de valores para o método `np.array(<lista>)`."
   ]
  },
  {
   "cell_type": "code",
   "execution_count": 163,
   "metadata": {},
   "outputs": [
    {
     "name": "stdout",
     "output_type": "stream",
     "text": [
      "[12 34 26 18 10]\n",
      "<class 'numpy.ndarray'>\n"
     ]
    }
   ],
   "source": [
    "mt = np.array([12,34,26,18,10])\n",
    "print(mt)\n",
    "print(type(mt))"
   ]
  },
  {
   "cell_type": "markdown",
   "metadata": {},
   "source": [
    "### Tipos de Dados nas Matrizes"
   ]
  },
  {
   "cell_type": "markdown",
   "metadata": {},
   "source": [
    "* Os arrays em Numpy precisam ser compostos de apenas um único tipo de dado, de modo que podemos, inclusive, especificar qual seja por meio do parâmetro `dtype=`."
   ]
  },
  {
   "cell_type": "code",
   "execution_count": 164,
   "metadata": {},
   "outputs": [
    {
     "name": "stdout",
     "output_type": "stream",
     "text": [
      "[1. 2. 3.] <class 'numpy.ndarray'>\n",
      "[1 2 3] <class 'numpy.ndarray'>\n"
     ]
    }
   ],
   "source": [
    "# Array de Float 64 bits\n",
    "mtfloat = np.array([1,2,3], dtype=np.float64)\n",
    "print(mtfloat, type(mtfloat))\n",
    "\n",
    "# Array de inteiros\n",
    "mtint = np.array([1,2,3], dtype=np.int32)\n",
    "print(mtint, type(mtint))"
   ]
  },
  {
   "cell_type": "markdown",
   "metadata": {},
   "source": [
    "* É possível alterar os valores de `dtype` de acordo com as necessidades."
   ]
  },
  {
   "cell_type": "code",
   "execution_count": 165,
   "metadata": {},
   "outputs": [
    {
     "name": "stdout",
     "output_type": "stream",
     "text": [
      "[ 1.4        3.6       -5.1        9.42       4.9999999] <class 'numpy.ndarray'>\n",
      "[ 1  3 -5  9  4] <class 'numpy.ndarray'>\n"
     ]
    }
   ],
   "source": [
    "# Criação de um array de float\n",
    "mtnew = np.array([1.4,3.6,-5.1,9.42,4.9999999], dtype=np.float64)\n",
    "print (mtnew, type(mtnew))\n",
    "\n",
    "# Mudar o tipo de array para inteiro\n",
    "mtnewint = mtnew.astype(np.int32)\n",
    "print(mtnewint, type(mtnewint))"
   ]
  },
  {
   "cell_type": "markdown",
   "metadata": {},
   "source": [
    "### Matrizes Multidimensionais"
   ]
  },
  {
   "cell_type": "markdown",
   "metadata": {},
   "source": [
    "* É possível criar matrizes multidimensionais. Basta aninhar listas dentro de listas, criando dimensões internas. As tabelas, por exemplo, são matrizes bidimensionais (compostas por linhas e colunas)."
   ]
  },
  {
   "cell_type": "code",
   "execution_count": 166,
   "metadata": {},
   "outputs": [
    {
     "name": "stdout",
     "output_type": "stream",
     "text": [
      "[[1 2 3]\n",
      " [4 5 6]\n",
      " [7 8 9]]\n"
     ]
    }
   ],
   "source": [
    "# Criação de uma matriz bidimensional\n",
    "tabela = np.array([[1,2,3],[4,5,6],[7,8,9]])\n",
    "print(tabela)"
   ]
  },
  {
   "cell_type": "markdown",
   "metadata": {},
   "source": [
    "### Matriz Sem Valores Declarados"
   ]
  },
  {
   "cell_type": "markdown",
   "metadata": {},
   "source": [
    "* O método `np.empty([<linhas>, <colunas>], <tipo>)` cria uma matriz, porém não inicializa seus valores. Seu print mostra lixo de memória."
   ]
  },
  {
   "cell_type": "code",
   "execution_count": 167,
   "metadata": {},
   "outputs": [
    {
     "name": "stdout",
     "output_type": "stream",
     "text": [
      "[[                  0 4599094494223104511]\n",
      " [4602266672337769981 4603598093850475007]\n",
      " [4604470981647418113 4605184182907807742]]\n"
     ]
    }
   ],
   "source": [
    "empty = np.empty([3,2], dtype=int)\n",
    "print(empty)"
   ]
  },
  {
   "cell_type": "markdown",
   "metadata": {},
   "source": [
    "### Matrizes Constantes"
   ]
  },
  {
   "cell_type": "markdown",
   "metadata": {},
   "source": [
    "* O método  `np.zeros([<linhas>,<colunas>])` cria uma matriz nula."
   ]
  },
  {
   "cell_type": "code",
   "execution_count": 168,
   "metadata": {},
   "outputs": [
    {
     "name": "stdout",
     "output_type": "stream",
     "text": [
      "[[0. 0. 0.]\n",
      " [0. 0. 0.]\n",
      " [0. 0. 0.]\n",
      " [0. 0. 0.]]\n"
     ]
    }
   ],
   "source": [
    "zeros = np.zeros([4,3])\n",
    "print(zeros)"
   ]
  },
  {
   "cell_type": "markdown",
   "metadata": {},
   "source": [
    "* O método `np.ones([<linhas>, <colunas>])` cria uma matriz numérica composta apenas por números 1."
   ]
  },
  {
   "cell_type": "code",
   "execution_count": 169,
   "metadata": {},
   "outputs": [
    {
     "data": {
      "text/plain": [
       "array([[1., 1., 1., 1., 1., 1., 1.],\n",
       "       [1., 1., 1., 1., 1., 1., 1.],\n",
       "       [1., 1., 1., 1., 1., 1., 1.],\n",
       "       [1., 1., 1., 1., 1., 1., 1.],\n",
       "       [1., 1., 1., 1., 1., 1., 1.]])"
      ]
     },
     "execution_count": 169,
     "metadata": {},
     "output_type": "execute_result"
    }
   ],
   "source": [
    "ones = np.ones([5,7])\n",
    "ones"
   ]
  },
  {
   "cell_type": "markdown",
   "metadata": {},
   "source": [
    "### Matriz Identidade"
   ]
  },
  {
   "cell_type": "markdown",
   "metadata": {},
   "source": [
    "* É possível também criar uma matriz identidade (matriz quadrada com diagonal valendo 1 e demais valores 0), utilizando o comando `np.eye(<linhas/colunas>)`."
   ]
  },
  {
   "cell_type": "code",
   "execution_count": 170,
   "metadata": {},
   "outputs": [
    {
     "data": {
      "text/plain": [
       "array([[1., 0., 0., 0., 0.],\n",
       "       [0., 1., 0., 0., 0.],\n",
       "       [0., 0., 1., 0., 0.],\n",
       "       [0., 0., 0., 1., 0.],\n",
       "       [0., 0., 0., 0., 1.]])"
      ]
     },
     "execution_count": 170,
     "metadata": {},
     "output_type": "execute_result"
    }
   ],
   "source": [
    "np.eye(5)"
   ]
  },
  {
   "cell_type": "markdown",
   "metadata": {},
   "source": [
    "## Extração de Elementos"
   ]
  },
  {
   "cell_type": "markdown",
   "metadata": {},
   "source": [
    "A extração de elementos de uma matriz pode apresentar alguns resultados que não exatamente intuitivos. Por isso, precisamos prestar atenção nessas variações.\n",
    "\n",
    "* **Observação 1**: a contagem do range e dos valores de extração incluem os valores indicados no index do começo e excluem os valores indicados pelo index do final. Assim, o intervalo de index 0-3 vai conter os valores dos índices indicados em 0,1,2.\n",
    "\n",
    "* **Observação 2**: a ausência de valores não implica em nulidade, mas tão somente que a referência é o começo ou o final do array.\n",
    "\n",
    "* **Observação 3**: valores negativos podem ser usados para indexar de modo reverso o array, sendo o -1 o último, o -2 o antepenúltimo, etc. Cabe ressaltar que o zero será sempre o primeira na ordem direta.\n",
    "\n",
    "* **Observação 4**: a indexação de valores começa a contagem a partir do elemento 0 (zero)."
   ]
  },
  {
   "cell_type": "markdown",
   "metadata": {},
   "source": [
    "### Array Unidimensional"
   ]
  },
  {
   "cell_type": "code",
   "execution_count": 171,
   "metadata": {},
   "outputs": [
    {
     "name": "stdout",
     "output_type": "stream",
     "text": [
      "Posicao Única(3): 3\n",
      "Intervalo (index 1 a 5): [1 2 3 4]\n",
      "Index até Final (index 3 até final): [ 3  4  5  6  7  8  9 10]\n",
      "Início até Index (Até 5) [0 1 2 3 4]\n",
      "Último (-1) 10\n",
      "Penúltimo (-2) 9\n"
     ]
    }
   ],
   "source": [
    "unidimensional = np.array(range(11))\n",
    "\n",
    "print('Posicao Única(3):',unidimensional[3])\n",
    "print('Intervalo (index 1 a 5):',unidimensional[1:5])\n",
    "print('Index até Final (index 3 até final):',unidimensional[3:])\n",
    "print('Início até Index (Até 5)',unidimensional[:5])\n",
    "print('Último (-1)',unidimensional[-1])\n",
    "print('Penúltimo (-2)',unidimensional[-2])"
   ]
  },
  {
   "cell_type": "markdown",
   "metadata": {},
   "source": [
    "### Array Multidimensional"
   ]
  },
  {
   "cell_type": "code",
   "execution_count": 172,
   "metadata": {},
   "outputs": [
    {
     "name": "stdout",
     "output_type": "stream",
     "text": [
      "[[1 2 3]\n",
      " [4 5 6]\n",
      " [7 8 9]]\n",
      "Linha/Colunas [1 2 3] [1 4 7]\n",
      "Célula Específica 6\n"
     ]
    }
   ],
   "source": [
    "print(tabela)\n",
    "print('Linha/Colunas', tabela[0,:], tabela[:,0])\n",
    "print('Célula Específica', tabela[1,2])\n"
   ]
  },
  {
   "cell_type": "markdown",
   "metadata": {},
   "source": [
    "## Operações com Matrizes"
   ]
  },
  {
   "cell_type": "markdown",
   "metadata": {},
   "source": [
    "### Matrizes de Referência"
   ]
  },
  {
   "cell_type": "code",
   "execution_count": 173,
   "metadata": {},
   "outputs": [
    {
     "name": "stdout",
     "output_type": "stream",
     "text": [
      "[ 0  1  2  3  4  5  6  7  8  9 10 11]\n",
      "[ 0  2  4  6  8 10 12 14 16 18 20 22]\n"
     ]
    }
   ],
   "source": [
    "a = np.arange(12)\n",
    "b = 2*np.arange(12)\n",
    "print(a)\n",
    "print(b)"
   ]
  },
  {
   "cell_type": "markdown",
   "metadata": {},
   "source": [
    "### Operações Matemáticas"
   ]
  },
  {
   "cell_type": "code",
   "execution_count": 174,
   "metadata": {},
   "outputs": [
    {
     "name": "stdout",
     "output_type": "stream",
     "text": [
      "[ 0  3  6  9 12 15 18 21 24 27 30 33]\n",
      "[  0  10  20  30  40  50  60  70  80  90 100 110]\n"
     ]
    }
   ],
   "source": [
    "soma = a+b\n",
    "mult_escalar = 10*a\n",
    "print(soma)\n",
    "print(mult_escalar)"
   ]
  },
  {
   "cell_type": "markdown",
   "metadata": {},
   "source": [
    "### Operações de Rearranjo"
   ]
  },
  {
   "cell_type": "code",
   "execution_count": 175,
   "metadata": {},
   "outputs": [
    {
     "name": "stdout",
     "output_type": "stream",
     "text": [
      "Array Original:\n",
      " [ 0  1  2  3  4  5  6  7  8  9 10 11]\n",
      "Matriz(2x6):\n",
      " [[ 0  1  2  3  4  5]\n",
      " [ 6  7  8  9 10 11]]\n",
      "Matriz(3x4):\n",
      " [[ 0  1  2  3]\n",
      " [ 4  5  6  7]\n",
      " [ 8  9 10 11]]\n"
     ]
    }
   ],
   "source": [
    "print('Array Original:\\n',op1)\n",
    "print('Matriz(2x6):\\n', op1.reshape([2,6]))\n",
    "print('Matriz(3x4):\\n',op1.reshape([3,4]))"
   ]
  },
  {
   "cell_type": "markdown",
   "metadata": {},
   "source": [
    "### Operações de Tranposição"
   ]
  },
  {
   "cell_type": "code",
   "execution_count": 193,
   "metadata": {},
   "outputs": [
    {
     "name": "stdout",
     "output_type": "stream",
     "text": [
      "Matriz Original:\n",
      " [[ 0  1  2  3]\n",
      " [ 4  5  6  7]\n",
      " [ 8  9 10 11]]\n",
      "Matriz Transposta:\n",
      " [[ 0  4  8]\n",
      " [ 1  5  9]\n",
      " [ 2  6 10]\n",
      " [ 3  7 11]]\n",
      "Matriz Transposta (transpose):\n",
      " [[ 0  4  8]\n",
      " [ 1  5  9]\n",
      " [ 2  6 10]\n",
      " [ 3  7 11]]\n"
     ]
    }
   ],
   "source": [
    "print('Matriz Original:\\n',op1.reshape([3,4]))\n",
    "print('Matriz Transposta:\\n',op1.reshape([3,4]).T)\n",
    "print('Matriz Transposta (transpose):\\n',op1.reshape([3,4]).transpose())"
   ]
  },
  {
   "cell_type": "markdown",
   "metadata": {},
   "source": [
    "### Operações Lógicas"
   ]
  },
  {
   "cell_type": "markdown",
   "metadata": {},
   "source": [
    "Existem métodos interessantes que permitem manipular os valores dos dados de acordo com uma determinada lógica. Por exemplo, é possível criar uma matriz de valores booleanos de acordo com um determinado critério. Ou atribuir valores personalizados quando cumprir uma determinada condições lógica. O método é bastante promissor."
   ]
  },
  {
   "cell_type": "code",
   "execution_count": 194,
   "metadata": {},
   "outputs": [
    {
     "data": {
      "text/plain": [
       "array([[ 0.19380804, -0.56777037, -0.91021039, -1.1617464 ],\n",
       "       [ 0.91505869,  2.05046801, -0.93598821,  0.55840725],\n",
       "       [-1.13853044,  0.47706304, -1.33559678, -0.06416776],\n",
       "       [ 0.62878944,  0.00877591,  1.10519256,  1.30721453]])"
      ]
     },
     "execution_count": 194,
     "metadata": {},
     "output_type": "execute_result"
    }
   ],
   "source": [
    "logicos = np.random.randn(4,4)\n",
    "logicos"
   ]
  },
  {
   "cell_type": "code",
   "execution_count": 196,
   "metadata": {},
   "outputs": [
    {
     "data": {
      "text/plain": [
       "array([[ True, False, False, False],\n",
       "       [ True,  True, False,  True],\n",
       "       [False,  True, False, False],\n",
       "       [ True,  True,  True,  True]])"
      ]
     },
     "execution_count": 196,
     "metadata": {},
     "output_type": "execute_result"
    }
   ],
   "source": [
    "booleanos = (logicos > 0)\n",
    "booleanos"
   ]
  },
  {
   "cell_type": "code",
   "execution_count": 198,
   "metadata": {},
   "outputs": [
    {
     "data": {
      "text/plain": [
       "array([['POSITIVO', 'NEGATIVO', 'NEGATIVO', 'NEGATIVO'],\n",
       "       ['POSITIVO', 'POSITIVO', 'NEGATIVO', 'POSITIVO'],\n",
       "       ['NEGATIVO', 'POSITIVO', 'NEGATIVO', 'NEGATIVO'],\n",
       "       ['POSITIVO', 'POSITIVO', 'POSITIVO', 'POSITIVO']], dtype='<U8')"
      ]
     },
     "execution_count": 198,
     "metadata": {},
     "output_type": "execute_result"
    }
   ],
   "source": [
    "personalizado = np.where(logicos>0, 'POSITIVO', 'NEGATIVO')\n",
    "personalizado"
   ]
  },
  {
   "cell_type": "markdown",
   "metadata": {},
   "source": [
    "## Métodos de Apoio Matemático"
   ]
  },
  {
   "cell_type": "markdown",
   "metadata": {},
   "source": [
    "### Números Randômicos"
   ]
  },
  {
   "cell_type": "markdown",
   "metadata": {},
   "source": [
    "* É possível gerar números randômicos entre 0 e 1 com métodos nativos de Python, utilizando o método `np.random.random(<quantidadeNumerosGerados>)`. O parâmetro do método indica quantos números deveram ser gerados randomicamente. A manipulação dos dados de retorno garante o uso de limites inferiores ou superiores diferentes de 0 e 1."
   ]
  },
  {
   "cell_type": "code",
   "execution_count": 176,
   "metadata": {},
   "outputs": [
    {
     "data": {
      "text/plain": [
       "array([0.65497655, 0.98296991, 0.66298184, 0.85174275, 0.80506259])"
      ]
     },
     "execution_count": 176,
     "metadata": {},
     "output_type": "execute_result"
    }
   ],
   "source": [
    "cinco_aletaroios = np.random.random(5)\n",
    "cinco_aletaroios"
   ]
  },
  {
   "cell_type": "markdown",
   "metadata": {},
   "source": [
    "* É possível criar uma matriz com a função random, utilizando como parâmetro as dimensões de uma matriz. A sintaxe pode ser feita da seguinte forma: `np.random.random((<linhas>,<colunas>))`"
   ]
  },
  {
   "cell_type": "code",
   "execution_count": 177,
   "metadata": {},
   "outputs": [
    {
     "data": {
      "text/plain": [
       "array([[4., 6., 8., 8.],\n",
       "       [1., 8., 2., 5.],\n",
       "       [9., 4., 9., 8.]])"
      ]
     },
     "execution_count": 177,
     "metadata": {},
     "output_type": "execute_result"
    }
   ],
   "source": [
    "matriz_random = np.ceil(10*np.random.random((3,4)))\n",
    "matriz_random"
   ]
  },
  {
   "cell_type": "markdown",
   "metadata": {},
   "source": [
    "* É possível gerar números inteiros diretamente dentro de um limite informado, utilizando o método `np.random.randint(low=<menor>,high=<maior>)`"
   ]
  },
  {
   "cell_type": "code",
   "execution_count": 178,
   "metadata": {},
   "outputs": [
    {
     "data": {
      "text/plain": [
       "21"
      ]
     },
     "execution_count": 178,
     "metadata": {},
     "output_type": "execute_result"
    }
   ],
   "source": [
    "random_int = np.random.randint(low=5,high=30)\n",
    "random_int"
   ]
  },
  {
   "cell_type": "markdown",
   "metadata": {},
   "source": [
    "### Distribuição Randômica Gaussiana"
   ]
  },
  {
   "cell_type": "markdown",
   "metadata": {},
   "source": [
    "* É possível obter números randômicos distribuídos de forma a gerar conjuntos de dados que obedecem à distribuição normal entre -1 e 1. Para tanto, utiliza-se o método `np.random.randn(<quantidadeNumerosGerados>)`"
   ]
  },
  {
   "cell_type": "code",
   "execution_count": 179,
   "metadata": {},
   "outputs": [
    {
     "data": {
      "text/plain": [
       "array([-1.58238851,  0.87862919, -0.06740949,  0.54129316, -0.57314642])"
      ]
     },
     "execution_count": 179,
     "metadata": {},
     "output_type": "execute_result"
    }
   ],
   "source": [
    "distribuicao_normal = np.random.randn(5)\n",
    "distribuicao_normal"
   ]
  },
  {
   "cell_type": "markdown",
   "metadata": {},
   "source": [
    "### Números com Sementes"
   ]
  },
  {
   "cell_type": "markdown",
   "metadata": {},
   "source": [
    "* É possível usar sementes para geração de números com resultados determinísticos. A sintaxe exige que seja definida uma semente de referência por meio do método `np.random.default_rng(<semente>)`. O retorno dessa função será um objeto que têm métodos de geração de números randmicos ou numeros inteiros, etc."
   ]
  },
  {
   "cell_type": "code",
   "execution_count": 180,
   "metadata": {},
   "outputs": [
    {
     "name": "stdout",
     "output_type": "stream",
     "text": [
      "[0.95600171 0.20768181 0.82844489 0.14928212 0.51280462]\n"
     ]
    }
   ],
   "source": [
    "numeros_semente = np.random.default_rng(10)\n",
    "teste1 = numeros_semente.random(5)\n",
    "print(teste1)"
   ]
  },
  {
   "cell_type": "markdown",
   "metadata": {},
   "source": [
    "* É possível criar matrizes determinísticas com valores limitados inferior e superiormente utilizando métodos associados ao np.random.default_rng. Basta usar o método `<variavelSemente>.integers()`, sendo certo que devemos informar os limites e o formato da matriz."
   ]
  },
  {
   "cell_type": "code",
   "execution_count": 181,
   "metadata": {},
   "outputs": [
    {
     "name": "stdout",
     "output_type": "stream",
     "text": [
      "[[ 7  6 14 21]\n",
      " [13 25  3 14]\n",
      " [17 28  9 25]]\n"
     ]
    }
   ],
   "source": [
    "teste2 = numeros_semente.integers(low=3, high=30, size=(3,4))\n",
    "print(teste2)"
   ]
  },
  {
   "cell_type": "markdown",
   "metadata": {},
   "source": [
    "### Conjuntos de Valores Únicos"
   ]
  },
  {
   "cell_type": "markdown",
   "metadata": {},
   "source": [
    "* É possível transformar uma lista ou array de dados em um conjunto de dados únicos utilizando o método `np.unique()`."
   ]
  },
  {
   "cell_type": "code",
   "execution_count": 182,
   "metadata": {},
   "outputs": [
    {
     "name": "stdout",
     "output_type": "stream",
     "text": [
      "[ 1  2  3  3  2  3  2  3  2  4 42  4  4  4  4  4  4  4  4 10 23]\n",
      "[ 1  2  3  4 10 23 42]\n"
     ]
    }
   ],
   "source": [
    "repetidos = np.array([1,2,3,3,2,3,2,3,2,4,42,4,4,4,4,4,4,4,4,10,23])\n",
    "print(repetidos)\n",
    "\n",
    "unicos = np.unique(repetidos)\n",
    "print(unicos)"
   ]
  },
  {
   "cell_type": "markdown",
   "metadata": {},
   "source": [
    "### Funções Específicas"
   ]
  },
  {
   "cell_type": "markdown",
   "metadata": {},
   "source": [
    "* É possível avaliar quais as dimensões de uma matriz utilizando o método `<array>.shape`."
   ]
  },
  {
   "cell_type": "code",
   "execution_count": 183,
   "metadata": {},
   "outputs": [
    {
     "data": {
      "text/plain": [
       "(3, 3)"
      ]
     },
     "execution_count": 183,
     "metadata": {},
     "output_type": "execute_result"
    }
   ],
   "source": [
    "tabela.shape"
   ]
  },
  {
   "cell_type": "markdown",
   "metadata": {},
   "source": [
    "* É possível utilizar métodos de estatística descritiva de forma simplificada."
   ]
  },
  {
   "cell_type": "code",
   "execution_count": 184,
   "metadata": {},
   "outputs": [
    {
     "name": "stdout",
     "output_type": "stream",
     "text": [
      "Media 6.285714285714286\n",
      "Desvio Padrao 9.155497214881379\n",
      "Variancia 83.82312925170068\n",
      "Covariancia 88.01428571428572\n"
     ]
    }
   ],
   "source": [
    "average = np.average(repetidos)\n",
    "desvio_padrao = np.std(repetidos)\n",
    "variancia = np.var(repetidos)\n",
    "covariancia = np.cov(repetidos)\n",
    "print('Media',average)\n",
    "print('Desvio Padrao',desvio_padrao)\n",
    "print('Variancia',variancia)\n",
    "print('Covariancia',covariancia)"
   ]
  },
  {
   "cell_type": "markdown",
   "metadata": {},
   "source": [
    "* É possível utilizar métodos do array Numpy para sobre os dados do array."
   ]
  },
  {
   "cell_type": "code",
   "execution_count": 185,
   "metadata": {},
   "outputs": [
    {
     "name": "stdout",
     "output_type": "stream",
     "text": [
      "Maximo 42\n",
      "Minimo 1\n",
      "Soma 132\n",
      "Media 6.285714285714286\n",
      "Desvio Padrão 9.155497214881379\n"
     ]
    }
   ],
   "source": [
    "print('Maximo',repetidos.max())\n",
    "print('Minimo',repetidos.min())\n",
    "print('Soma',repetidos.sum())\n",
    "print('Media',repetidos.mean())\n",
    "print('Desvio Padrão',repetidos.std())"
   ]
  },
  {
   "cell_type": "markdown",
   "metadata": {},
   "source": [
    "### Funções Matemáticas Universais"
   ]
  },
  {
   "cell_type": "code",
   "execution_count": 186,
   "metadata": {},
   "outputs": [
    {
     "name": "stdout",
     "output_type": "stream",
     "text": [
      "[1 2 3 4 5 6]\n",
      "[  2.71828183   7.3890561   20.08553692  54.59815003 148.4131591\n",
      " 403.42879349]\n",
      "[1.         1.41421356 1.73205081 2.         2.23606798 2.44948974]\n",
      "[0.         0.69314718 1.09861229 1.38629436 1.60943791 1.79175947]\n",
      "[0.         0.30103    0.47712125 0.60205999 0.69897    0.77815125]\n"
     ]
    }
   ],
   "source": [
    "funcoes = np.array([1,2,3,4,5,6])\n",
    "exponencial = np.exp(funcoes)\n",
    "raizquadrada = np.sqrt(funcoes)\n",
    "logn = np.log(funcoes)\n",
    "log10 = np.log10(funcoes)\n",
    "print(funcoes)\n",
    "print(exponencial)\n",
    "print(raizquadrada)\n",
    "print(logn)\n",
    "print(log10)"
   ]
  },
  {
   "cell_type": "markdown",
   "metadata": {},
   "source": [
    "##"
   ]
  }
 ],
 "metadata": {
  "kernelspec": {
   "display_name": "DataScience",
   "language": "python",
   "name": "python3"
  },
  "language_info": {
   "codemirror_mode": {
    "name": "ipython",
    "version": 3
   },
   "file_extension": ".py",
   "mimetype": "text/x-python",
   "name": "python",
   "nbconvert_exporter": "python",
   "pygments_lexer": "ipython3",
   "version": "3.10.12"
  },
  "orig_nbformat": 4
 },
 "nbformat": 4,
 "nbformat_minor": 2
}
