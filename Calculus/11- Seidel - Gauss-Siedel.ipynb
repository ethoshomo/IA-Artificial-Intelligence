{
 "cells": [
  {
   "cell_type": "markdown",
   "metadata": {},
   "source": [
    "<strong>Universidade de São Paulo (USP) </strong>\\\n",
    "<strong>Discente</strong>: Carlos Filipe de Castro Lemos \\\n",
    "<strong>Implementação</strong>: Resolução de Sistemas Iterativo - Gauss-Siedel \\\n",
    "<strong>Fonte</strong>: https://www.youtube.com/playlist?list=PLomBG50UAP0m9ukqkap2GqlPXOBUq8FaL"
   ]
  },
  {
   "cell_type": "markdown",
   "metadata": {},
   "source": [
    "Existem diferenças entre o Método de Gauss-Jacobi que foram reproduzidas abaixo, como, por exemplo, a inicialização do vetor x com zeros, o cálculo de X com a aproximação atual e a ordem de cálculo entre x e v. Por isso, é preciso ter cuidado ao manipular o código abaixo."
   ]
  },
  {
   "cell_type": "code",
   "execution_count": 5,
   "metadata": {},
   "outputs": [],
   "source": [
    "def norma(v, x):\n",
    "\n",
    "    # Seleciona a dimensão do vetor\n",
    "    n = len(v)\n",
    "\n",
    "    # Calcula numerador e denominador\n",
    "    max_num = 0\n",
    "    max_den = 0\n",
    "    for i in range(n):\n",
    "        num = abs(v[i] - x[i])\n",
    "        if num > max_num: max_num = num\n",
    "        if abs(v[i]) > max_den: max_den = abs(v[i])\n",
    "\n",
    "    # Confere divisão por zero\n",
    "    if max_den == 0: return 'Erro: Divisão por Zero'\n",
    "\n",
    "    # Executa cálculo e retorna resultado\n",
    "    return max_num/max_den"
   ]
  },
  {
   "cell_type": "code",
   "execution_count": 6,
   "metadata": {},
   "outputs": [],
   "source": [
    "def gauss_seidel(A, b, epsilon, interMax = 50):\n",
    "    \n",
    "    # Preparar a Matriz A e o vetor b para iterações\n",
    "    n = len(A)\n",
    "    x = n * [0]\n",
    "    v = n * [0]    \n",
    "\n",
    "    for i in range(n):\n",
    "        for j in range(n):\n",
    "            if i != j:\n",
    "                A[i][j] /= A[i][i]\n",
    "        b[i] /= A[i][i]\n",
    "\n",
    "    # Realiza as iterações. Para cada iteração K:\n",
    "    #   - Calcula o vetor V (x^k+1) com a aproximação atual\n",
    "    #   - Calcular d (norma-infinita) entre V e X\n",
    "    #     usando outra função     \n",
    "    for k in range(1, interMax+1):\n",
    "        for i in range(n):\n",
    "            somatorio = 0\n",
    "            for j in range(n):\n",
    "                if i != j:\n",
    "                    somatorio += A[i][j] * x[j]\n",
    "            x[i] = b[i] - somatorio\n",
    "        \n",
    "        # Calcula a norma\n",
    "        d = norma(x,v)\n",
    "        if d <= epsilon: return x\n",
    "\n",
    "        # Atualiza x por cópia e não referência.\n",
    "        v = x[:]\n",
    "\n",
    "    print('Número máximo de iterações atingido')\n",
    "    return x"
   ]
  },
  {
   "cell_type": "code",
   "execution_count": 7,
   "metadata": {},
   "outputs": [
    {
     "data": {
      "text/plain": [
       "[1.0075, 0.99125, -0.999375]"
      ]
     },
     "execution_count": 7,
     "metadata": {},
     "output_type": "execute_result"
    }
   ],
   "source": [
    "A = [[5, 1, 1],\n",
    "     [3, 4, 1],\n",
    "     [3, 3, 6]]\n",
    "b = [5, 6, 0]\n",
    "\n",
    "gauss_seidel(A,b, 0.05)"
   ]
  }
 ],
 "metadata": {
  "kernelspec": {
   "display_name": "Data",
   "language": "python",
   "name": "python3"
  },
  "language_info": {
   "codemirror_mode": {
    "name": "ipython",
    "version": 3
   },
   "file_extension": ".py",
   "mimetype": "text/x-python",
   "name": "python",
   "nbconvert_exporter": "python",
   "pygments_lexer": "ipython3",
   "version": "3.11.7"
  }
 },
 "nbformat": 4,
 "nbformat_minor": 2
}
