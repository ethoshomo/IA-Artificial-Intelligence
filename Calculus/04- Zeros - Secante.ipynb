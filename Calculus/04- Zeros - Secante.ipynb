{
 "cells": [
  {
   "cell_type": "markdown",
   "metadata": {},
   "source": [
    "<strong>Universidade de São Paulo (USP) </strong>\\\n",
    "<strong>Discente</strong>: Carlos Filipe de Castro Lemos \\\n",
    "<strong>Implementação</strong>: Método de Determinação de Raízes - Método da Secante \\\n",
    "<strong>Fonte</strong>: https://www.youtube.com/playlist?list=PLomBG50UAP0m9ukqkap2GqlPXOBUq8FaL"
   ]
  },
  {
   "cell_type": "code",
   "execution_count": 51,
   "metadata": {},
   "outputs": [],
   "source": [
    "import numpy as np"
   ]
  },
  {
   "cell_type": "code",
   "execution_count": 52,
   "metadata": {},
   "outputs": [],
   "source": [
    "def secante(coef:list, x0:float, x1:float, epsilon: float, maxIter = 50):\n",
    "    \"\"\" \n",
    "    O método da secante é um aprimoramento do método de Newton.\n",
    "    Existe uma troca do cálculo da derivada por uma razão e os \n",
    "    cálculos ficam simplificados.\n",
    "\n",
    "    Inicialmente, o método calcula se x0 ou x1 são raízes. Caso\n",
    "    não sejam, as iterações são iniciadas. Assim, calcula x2 com\n",
    "    os dados de x0 e x1, depois faz o Teste do Módulo da Função.\n",
    "\n",
    "    @param coef: recebe os coeficientes do polinômio.\n",
    "    @param epsilon: tolerância de erro.\n",
    "    @param x0: primeiro valor aproximado inicial.\n",
    "    @param x1: segundo valor aproximado inicial.\n",
    "    @return: retorna o valor calculado ou erro.\n",
    "    \"\"\"\n",
    "    # Montagem da função e sua derivada:\n",
    "    polinomio = np.poly1d(coef)\n",
    "    \n",
    "    if abs(polinomio(x0)) <= epsilon: return x0\n",
    "    if abs(polinomio(x1)) <= epsilon: return x1\n",
    "    \n",
    "    # Processo iterativo:\n",
    "    for k in range(maxIter):\n",
    "        \n",
    "        # Cálculo da fórmula:\n",
    "        numerador = x0*polinomio(x1)-x1*polinomio(x0)\n",
    "        denominador = polinomio(x1)-polinomio(x0)\n",
    "        if denominador == 0: return 'Erro: Divisão por Zero'\n",
    "        x = numerador/denominador\n",
    "\n",
    "        # Exibe debug:       \n",
    "        print(f'x{k} = {x}')\n",
    "        print(f'Teste: {abs(polinomio(x))} < {epsilon}? {\"Verdade\" if abs(polinomio(x)) < epsilon else \"Falso\"}\\n')\n",
    "\n",
    "        # Teste de Módulo de Função se x é raiz:\n",
    "        if abs(polinomio(x)) <= epsilon: return x\n",
    "\n",
    "        # Atualiza valores para a próxima iteração\n",
    "        x0 = x1\n",
    "        x1 = x\n",
    "\n",
    "    return 'Erro: Máximo de Iterações Atingido'"
   ]
  },
  {
   "cell_type": "code",
   "execution_count": 53,
   "metadata": {},
   "outputs": [
    {
     "name": "stdout",
     "output_type": "stream",
     "text": [
      "x0 = 2.142857142857143\n",
      "Teste: 0.7346938775510203 < 1e-07? Falso\n",
      "\n",
      "x1 = 1.9655172413793103\n",
      "Teste: 0.17122473246135517 < 1e-07? Falso\n",
      "\n",
      "x2 = 1.9990356798457085\n",
      "Teste: 0.004820670858096676 < 1e-07? Falso\n",
      "\n",
      "x3 = 2.000006697968506\n",
      "Teste: 3.348988739304559e-05 < 1e-07? Falso\n",
      "\n",
      "x4 = 1.9999999987079553\n",
      "Teste: 6.460223467286141e-09 < 1e-07? Verdade\n",
      "\n"
     ]
    },
    {
     "data": {
      "text/plain": [
       "1.9999999987079553"
      ]
     },
     "execution_count": 53,
     "metadata": {},
     "output_type": "execute_result"
    }
   ],
   "source": [
    "secante([1,1,-6], 1.5, 1, 1e-7)"
   ]
  },
  {
   "cell_type": "code",
   "execution_count": 54,
   "metadata": {},
   "outputs": [
    {
     "name": "stdout",
     "output_type": "stream",
     "text": [
      "x0 = 0.375\n",
      "Teste: 0.322265625 < 0.0005? Falso\n",
      "\n",
      "x1 = 0.33194154488517746\n",
      "Teste: 0.04910113796680671 < 0.0005? Falso\n",
      "\n",
      "x2 = 0.337634620723037\n",
      "Teste: 0.00022220635541980727 < 0.0005? Verdade\n",
      "\n"
     ]
    },
    {
     "data": {
      "text/plain": [
       "0.337634620723037"
      ]
     },
     "execution_count": 54,
     "metadata": {},
     "output_type": "execute_result"
    }
   ],
   "source": [
    "secante([1,0,-9,3], 0, 1, 0.0005)"
   ]
  }
 ],
 "metadata": {
  "kernelspec": {
   "display_name": ".venv",
   "language": "python",
   "name": "python3"
  },
  "language_info": {
   "codemirror_mode": {
    "name": "ipython",
    "version": 3
   },
   "file_extension": ".py",
   "mimetype": "text/x-python",
   "name": "python",
   "nbconvert_exporter": "python",
   "pygments_lexer": "ipython3",
   "version": "3.11.7"
  }
 },
 "nbformat": 4,
 "nbformat_minor": 2
}
