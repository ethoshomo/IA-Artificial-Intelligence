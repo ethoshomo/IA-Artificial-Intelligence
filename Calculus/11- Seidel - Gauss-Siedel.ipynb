{
 "cells": [
  {
   "cell_type": "markdown",
   "metadata": {},
   "source": [
    "<strong>Universidade de São Paulo (USP) </strong>\\\n",
    "<strong>Discente</strong>: Carlos Filipe de Castro Lemos \\\n",
    "<strong>Implementação</strong>: Resolução de Sistemas Iterativo - Gauss-Siedel \\\n",
    "<strong>Fonte</strong>: https://www.youtube.com/playlist?list=PLomBG50UAP0m9ukqkap2GqlPXOBUq8FaL"
   ]
  },
  {
   "cell_type": "code",
   "execution_count": null,
   "metadata": {},
   "outputs": [],
   "source": []
  }
 ],
 "metadata": {
  "language_info": {
   "name": "python"
  }
 },
 "nbformat": 4,
 "nbformat_minor": 2
}
