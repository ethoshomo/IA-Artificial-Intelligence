{
 "cells": [
  {
   "cell_type": "markdown",
   "metadata": {},
   "source": [
    "<strong>Universidade de São Paulo (USP) </strong>\\\n",
    "<strong>Discente</strong>: Carlos Filipe de Castro Lemos \\\n",
    "<strong>Implementação</strong>: Método de Determinação de Raízes - Método de Newton (Polinômio) \\\n",
    "<strong>Fonte</strong>: https://www.youtube.com/playlist?list=PLomBG50UAP0m9ukqkap2GqlPXOBUq8FaL"
   ]
  },
  {
   "cell_type": "markdown",
   "metadata": {},
   "source": [
    "Exemplificativamente, iremos usar o método de Newton para calcular o raiz do  polinômio, porém iremos utilizar a otimização de Horner acelerar os cálculos: \\\n",
    "$p_{5}(x) = 3x^{5}-2x^{4}+5x^{3}+7x^{2}-3x+1$\n",
    "\n",
    "\n"
   ]
  },
  {
   "cell_type": "code",
   "execution_count": 7,
   "metadata": {},
   "outputs": [],
   "source": [
    "def newton(a: list, x: float, epsilon: float,  maxIter = 50):\n",
    "    # Calculando o grau do polinômio.\n",
    "    n = len(a)-1    \n",
    "\n",
    "    # Montagem do laço de repetição\n",
    "    for _ in range(maxIter+1):\n",
    "        \n",
    "        # Utilização do método de Horner para calcular\n",
    "        # f(x) = b e f'(x) = c\n",
    "        # Inicializando valores\n",
    "        b = a[n]\n",
    "        c = b\n",
    "        \n",
    "        for j in range(n-1, -1, -1):\n",
    "            # Calcula valor do polinômio\n",
    "            b = a[j] + b*x\n",
    "            # Calcula valor da derivada\n",
    "            if j != 0: c = b + c*x\n",
    "    \n",
    "        if abs(b) <= epsilon: return x\n",
    "\n",
    "        x = x - b/c\n",
    "\n",
    "    return 'Numero máximo de iterações atingido'\n",
    "\n"
   ]
  },
  {
   "cell_type": "code",
   "execution_count": 8,
   "metadata": {},
   "outputs": [
    {
     "data": {
      "text/plain": [
       "-1.0430420005965302"
      ]
     },
     "execution_count": 8,
     "metadata": {},
     "output_type": "execute_result"
    }
   ],
   "source": [
    "# Coeficientes polinomiais: [a0, a1, a2, ..., an]\n",
    "a = [1, -3, 7, 5, -2, 3]\n",
    "z = 2\n",
    "\n",
    "newton(a, z, 1e-4)"
   ]
  },
  {
   "cell_type": "code",
   "execution_count": 9,
   "metadata": {},
   "outputs": [
    {
     "data": {
      "text/plain": [
       "1.0000169296346983"
      ]
     },
     "execution_count": 9,
     "metadata": {},
     "output_type": "execute_result"
    }
   ],
   "source": [
    "# Coeficientes polinomiais: [a0, a1, a2, ..., an]\n",
    "a = [ -2,-1, 2, 1]\n",
    "z = 2\n",
    "\n",
    "newton(a, z, 1e-3)"
   ]
  }
 ],
 "metadata": {
  "kernelspec": {
   "display_name": ".venv",
   "language": "python",
   "name": "python3"
  },
  "language_info": {
   "codemirror_mode": {
    "name": "ipython",
    "version": 3
   },
   "file_extension": ".py",
   "mimetype": "text/x-python",
   "name": "python",
   "nbconvert_exporter": "python",
   "pygments_lexer": "ipython3",
   "version": "3.11.7"
  }
 },
 "nbformat": 4,
 "nbformat_minor": 2
}
