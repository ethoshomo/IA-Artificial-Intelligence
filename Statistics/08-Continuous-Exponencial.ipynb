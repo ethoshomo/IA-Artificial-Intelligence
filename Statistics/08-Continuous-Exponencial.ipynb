{
 "cells": [
  {
   "cell_type": "markdown",
   "metadata": {},
   "source": [
    "**UNIVERSIDADE DE SÃO PAULO (USP)**\n",
    "\n",
    "**_Author_**: Carlos Filipe de Castro Lemos\n",
    "\n",
    "**_Academic Study_**: Continuous - Exponencial Distribution"
   ]
  },
  {
   "cell_type": "code",
   "execution_count": null,
   "metadata": {},
   "outputs": [],
   "source": [
    "import random\n",
    "import math\n",
    "import numpy as np\n",
    "import seaborn as sns\n",
    "import matplotlib.pyplot as plt"
   ]
  },
  {
   "cell_type": "markdown",
   "metadata": {},
   "source": [
    "Modela a quantidade de tempo entre tentativas. Contínua. Exp(x) = lamda*e^(-lamda*x), sendo lambda a taxa de ocorrência e a x representa o tempo entre eventos aleatórios. E(X) = 1/lambda. Var(X) = 1/lambda^2."
   ]
  },
  {
   "cell_type": "markdown",
   "metadata": {},
   "source": [
    "### Probabily Mass Function (PMF)\n",
    "### Probability Mass Function Chart\n",
    "### Cumulative Distribution Function (CDF)\n",
    "### Cumulative Distribution Function Chart\n",
    "### Expectation (E(X))\n",
    "### Variance (Var(x))\n",
    "### Standard Deviation (STD(X))\n",
    "### Testing"
   ]
  }
 ],
 "metadata": {
  "kernelspec": {
   "display_name": "DataPackages",
   "language": "python",
   "name": "python3"
  },
  "language_info": {
   "name": "python",
   "version": "3.11.5"
  }
 },
 "nbformat": 4,
 "nbformat_minor": 2
}
