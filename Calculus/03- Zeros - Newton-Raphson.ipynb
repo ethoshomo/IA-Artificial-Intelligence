{
 "cells": [
  {
   "cell_type": "markdown",
   "metadata": {},
   "source": [
    "<strong>Universidade de São Paulo (USP) </strong>\\\n",
    "<strong>Discente</strong>: Carlos Filipe de Castro Lemos \\\n",
    "<strong>Implementação</strong>: Método de Determinação de Raízes - Método de Newton-Raphson \\\n",
    "<strong>Fonte</strong>: https://www.youtube.com/playlist?list=PLomBG50UAP0m9ukqkap2GqlPXOBUq8FaL"
   ]
  },
  {
   "cell_type": "code",
   "execution_count": 31,
   "metadata": {},
   "outputs": [],
   "source": [
    "import numpy as np"
   ]
  },
  {
   "cell_type": "code",
   "execution_count": 32,
   "metadata": {},
   "outputs": [],
   "source": [
    "def newton(coef:list, epsilon: float, x: float, maxIter = 50):\n",
    "    \"\"\" \n",
    "    O Método de Newton-Raphson calcula a raiz de uma\n",
    "    expressão utilizando, de forma bastante simples,\n",
    "    a ideia de otimização do Método do Ponto Fixo.\n",
    "\n",
    "    O funcionamento da função abaixo é basicamente calcular\n",
    "    o polinômio e a sua derivada, de modo a montar um processo\n",
    "    iterativo de cálculo do valor da raiz e teste de módulo\n",
    "    de função para verificar se o x é a raiz.\n",
    "\n",
    "    @param coef: recebe os coeficientes do polinômio.\n",
    "    @param epsilon: tolerância de erro.\n",
    "    @param x: valor aproximado inicial.\n",
    "    @return: retorna o valor calculado ou erro.\n",
    "    \"\"\"\n",
    "    # Montagem da função e sua derivada:\n",
    "    polinomio = np.poly1d(coef)\n",
    "    derivada = polinomio.deriv()\n",
    "    \n",
    "    # Testa se o x é raiz:\n",
    "    if abs(polinomio(x)) <= epsilon: return x\n",
    "\n",
    "    # Processo iterativo:\n",
    "    for k in range(maxIter+1):\n",
    "        \n",
    "        # Prepara valores de cálculo da função geral:\n",
    "        res1 = polinomio(x)\n",
    "        res2 = derivada(x)\n",
    "        if res2 == 0: return 'Erro: Divisão por Zero'\n",
    "\n",
    "        # Fórmula do Método de Newton-Raphson:\n",
    "        x = x - res1/res2\n",
    "        print(f'x{k} = {x}')\n",
    "        print(f'Teste: {abs(polinomio(x))} < {epsilon}? {\"Verdade\" if abs(polinomio(x)) < epsilon else \"Falso\"}\\n')\n",
    "\n",
    "        # Teste de Módulo de Função se x é raiz:\n",
    "        if abs(polinomio(x)) <= epsilon: return x\n",
    "\n",
    "    return 'Erro: Máximo de Iterações Atingido'"
   ]
  },
  {
   "cell_type": "code",
   "execution_count": 33,
   "metadata": {},
   "outputs": [
    {
     "name": "stdout",
     "output_type": "stream",
     "text": [
      "x0 = 2.0625\n",
      "Teste: 0.31640625 < 0.0001? Falso\n",
      "\n",
      "x1 = 2.0007621951219514\n",
      "Teste: 0.003811556551161388 < 0.0001? Falso\n",
      "\n",
      "x2 = 2.000000116152868\n",
      "Teste: 5.80764354829455e-07 < 0.0001? Verdade\n",
      "\n",
      "Raiz:  2.000000116152868\n"
     ]
    }
   ],
   "source": [
    "print('Raiz: ', newton([1,1,-6], 1e-4, 1.5))"
   ]
  },
  {
   "cell_type": "code",
   "execution_count": 34,
   "metadata": {},
   "outputs": [
    {
     "name": "stdout",
     "output_type": "stream",
     "text": [
      "x0 = -1.6666666666666665\n",
      "Teste: 13.37037037037037 < 0.0001? Falso\n",
      "\n",
      "x1 = 18.38888888888885\n",
      "Teste: 6055.7254801097 < 0.0001? Falso\n",
      "\n",
      "x2 = 12.366010403481946\n",
      "Teste: 1782.6941229062609 < 0.0001? Falso\n",
      "\n",
      "x3 = 8.402306719815135\n",
      "Teste: 520.5716600725044 < 0.0001? Falso\n",
      "\n",
      "x4 = 5.835338164832407\n",
      "Teste: 149.1820571157474 < 0.0001? Falso\n",
      "\n",
      "x5 = 4.233873551002962\n",
      "Teste: 40.79022268711901 < 0.0001? Falso\n",
      "\n",
      "x6 = 3.322910960561275\n",
      "Teste: 9.78451109265314 < 0.0001? Falso\n",
      "\n",
      "x7 = 2.917338931107862\n",
      "Teste: 1.5730316198594716 < 0.0001? Falso\n",
      "\n",
      "x8 = 2.8221916654111676\n",
      "Teste: 0.07837065861518155 < 0.0001? Falso\n",
      "\n",
      "x9 = 2.8169298758437504\n",
      "Teste: 0.00023426355116829 < 0.0001? Falso\n",
      "\n",
      "x10 = 2.816914052872279\n",
      "Teste: 2.115787101075739e-09 < 0.0001? Verdade\n",
      "\n",
      "Raiz:  2.816914052872279\n"
     ]
    }
   ],
   "source": [
    "print('Raiz: ', newton([1,0, -9,3], 1e-4, 1.5))\n"
   ]
  }
 ],
 "metadata": {
  "kernelspec": {
   "display_name": ".venv",
   "language": "python",
   "name": "python3"
  },
  "language_info": {
   "codemirror_mode": {
    "name": "ipython",
    "version": 3
   },
   "file_extension": ".py",
   "mimetype": "text/x-python",
   "name": "python",
   "nbconvert_exporter": "python",
   "pygments_lexer": "ipython3",
   "version": "3.11.7"
  }
 },
 "nbformat": 4,
 "nbformat_minor": 2
}
