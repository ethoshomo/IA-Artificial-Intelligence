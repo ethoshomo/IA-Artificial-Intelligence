{
 "cells": [
  {
   "cell_type": "markdown",
   "metadata": {},
   "source": [
    "- Boxplot\n",
    "- Variância\n",
    "- Desvio Padrão\n",
    "- Distribuições\n",
    "- Regressão Linear\n",
    "- Intervalo de Confiança"
   ]
  },
  {
   "cell_type": "markdown",
   "metadata": {},
   "source": [
    "# Packages"
   ]
  },
  {
   "cell_type": "code",
   "execution_count": 231,
   "metadata": {},
   "outputs": [],
   "source": [
    "import numpy as np\n",
    "import statistics as st\n",
    "import math\n",
    "import scipy\n",
    "import matplotlib.pyplot as plt\n",
    "import seaborn as sns\n",
    "from collections import Counter"
   ]
  },
  {
   "cell_type": "markdown",
   "metadata": {},
   "source": [
    "# Data Used in All Examples"
   ]
  },
  {
   "cell_type": "code",
   "execution_count": 232,
   "metadata": {},
   "outputs": [],
   "source": [
    "numerical = [2,5,7,4,1,9,5,9,2,6,7,9,4,3,5,7] # Par\n",
    "\n",
    "numerical_even = [2,5,7,4,1,9,10,9,2,6,7,9,4,3,5,7] # Par\n",
    "numerical_odd = [2,5,7,4,1,9,5,9,2,6,7,9,4,3,5,7,2] # Impar\n",
    "\n",
    "numerical_mode = [2,5,7,4,1,9,5,9,2,6,7,9,4,3,5,71,1,1,1,1,1,1,1] # Par\n",
    "numerical_multimode = [1,1,1,2,2,2,3,3,3,5,4,6,32,6,78,78,6,9,65,4,5]\n",
    "\n",
    "categorical = ['banana','laranja','maçã','abacate','laranja','melão']\n",
    "\n",
    "count = int\n",
    "total = float"
   ]
  },
  {
   "cell_type": "markdown",
   "metadata": {},
   "source": [
    "# Central Tendency Measures"
   ]
  },
  {
   "cell_type": "markdown",
   "metadata": {},
   "source": [
    "## Mean"
   ]
  },
  {
   "cell_type": "markdown",
   "metadata": {},
   "source": [
    "$$\\bar{x} = \\frac{\\sum_{i=1}^{n}x_{i}}{n}$$"
   ]
  },
  {
   "cell_type": "code",
   "execution_count": 233,
   "metadata": {},
   "outputs": [
    {
     "name": "stdout",
     "output_type": "stream",
     "text": [
      "Mean (brute force):  5.3125\n",
      "Mean (Numpy):  5.3125\n",
      "Mean (Statistics):  5.3125\n"
     ]
    }
   ],
   "source": [
    "# Hard Coded\n",
    "count = 0\n",
    "total = 0\n",
    "for n in numerical:\n",
    "    total += n\n",
    "    count += 1\n",
    "\n",
    "# Show Mean\n",
    "print(\"Mean (Hard Coded): \", total/count)\n",
    "print(\"Mean (Numpy): \", np.mean(numerical))\n",
    "print(\"Mean (Statistics): \", st.mean(numerical))\n"
   ]
  },
  {
   "cell_type": "markdown",
   "metadata": {},
   "source": [
    "## Harmonic Mean"
   ]
  },
  {
   "cell_type": "markdown",
   "metadata": {},
   "source": [
    "$$M_{h} = \\frac{n}{\\sum_{i=1}^{n}\\frac{1}{x_{i}}}$$"
   ]
  },
  {
   "cell_type": "code",
   "execution_count": 234,
   "metadata": {},
   "outputs": [
    {
     "name": "stdout",
     "output_type": "stream",
     "text": [
      "Harmonic Mean (brute force):  3.6681222707423577\n",
      "Harmonic Mean (Scipy):  3.6681222707423577\n",
      "Harmonic Mean (Statistics):  3.668122270742358\n"
     ]
    }
   ],
   "source": [
    "# Hard Coded\n",
    "count = 0\n",
    "total = 0\n",
    "for n in numerical:\n",
    "    total += (1/n)\n",
    "    count += 1\n",
    "\n",
    "# Show Mean\n",
    "print(\"Harmonic Mean (Hard Coded): \", count/total)\n",
    "print(\"Harmonic Mean (Scipy): \", scipy.stats.hmean(numerical))\n",
    "print(\"Harmonic Mean (Statistics): \", st.harmonic_mean(numerical))"
   ]
  },
  {
   "cell_type": "markdown",
   "metadata": {},
   "source": [
    "## Mode"
   ]
  },
  {
   "cell_type": "markdown",
   "metadata": {},
   "source": [
    "The most frequently term. It can be one or more terms and can be categorical data."
   ]
  },
  {
   "cell_type": "code",
   "execution_count": 235,
   "metadata": {},
   "outputs": [],
   "source": [
    "def mode(l):\n",
    "\n",
    "    count = {}\n",
    "\n",
    "    for el in l:\n",
    "        if el in count:\n",
    "            count[el] += 1\n",
    "        else:\n",
    "            count[el] = 1   \n",
    "\n",
    "    return sorted(count, key=count.get, reverse=True)[0]"
   ]
  },
  {
   "cell_type": "code",
   "execution_count": 236,
   "metadata": {},
   "outputs": [
    {
     "name": "stdout",
     "output_type": "stream",
     "text": [
      "Mode (Hard Coded - Categorical):  laranja\n",
      "Mode (Hard Coded - Numerical):  1\n",
      "\n",
      "Mode (Statistics - Categorical):  laranja\n",
      "Mode (Statistics - Numerical):  1\n",
      "MultiMode (Statistics - Categorical):  [1, 2, 3, 6]\n"
     ]
    }
   ],
   "source": [
    "# Hard Coded\n",
    "print(\"Mode (Hard Coded - Categorical): \", mode(categorical))\n",
    "print(\"Mode (Hard Coded - Numerical): \", mode(numerical_mode))\n",
    "\n",
    "# It is not implemented in Numpy\n",
    "\n",
    "# Statistics\n",
    "print(\"\\nMode (Statistics - Categorical): \", st.mode(categorical))\n",
    "print(\"Mode (Statistics - Numerical): \", st.mode(numerical_mode))\n",
    "print(\"MultiMode (Statistics - Categorical): \", st.multimode(numerical_multimode))"
   ]
  },
  {
   "cell_type": "markdown",
   "metadata": {},
   "source": [
    "## Median"
   ]
  },
  {
   "cell_type": "markdown",
   "metadata": {},
   "source": [
    "We have to select the central element. To do this:\n",
    "\n",
    "* We need to sort the list\n",
    "* Find the median term: if the number is odd, it is the central element, however, if it is even, the median is the average of the two central elements."
   ]
  },
  {
   "cell_type": "code",
   "execution_count": 237,
   "metadata": {},
   "outputs": [],
   "source": [
    "def median(l):\n",
    "    \n",
    "    # Sorted List\n",
    "    l = sorted(l)\n",
    "\n",
    "    # Size os list\n",
    "    s = len(l)\n",
    "\n",
    "    # Check if it is even or odd\n",
    "    if s%2 == 0:\n",
    "        return (l[int(s/2)-1]+l[int(s/2)])/2\n",
    "    else:\n",
    "        return l[math.ceil(s/2)]"
   ]
  },
  {
   "cell_type": "code",
   "execution_count": 238,
   "metadata": {},
   "outputs": [
    {
     "name": "stdout",
     "output_type": "stream",
     "text": [
      "[1, 2, 2, 3, 4, 4, 5, 5, 6, 7, 7, 7, 9, 9, 9, 10]\n",
      "[1, 2, 2, 2, 3, 4, 4, 5, 5, 5, 6, 7, 7, 7, 9, 9, 9] 5\n",
      "\n",
      "Median (Hard Coded - Even) 5.5\n",
      "Median (Hard Coded - Odd) 5\n",
      "\n",
      "Median (Numpy - Percentile - Even) 5.5\n",
      "Median (Numpy - Percentile - Odd) 5.0\n",
      "\n",
      "Median (Numpy - Even) 5.5\n",
      "Median (Numpy - Odd) 5.0\n",
      "\n",
      "Median (Statistics - Even) 5.5\n",
      "Median (Statistics - Odd) 5\n"
     ]
    }
   ],
   "source": [
    "# Hard Coded\n",
    "print(sorted(numerical_even))\n",
    "print(sorted(numerical_odd), median(numerical_odd))\n",
    "\n",
    "# Numpy\n",
    "print(\"\\nMedian (Hard Coded - Even)\", median(numerical_even))\n",
    "print(\"Median (Hard Coded - Odd)\", median(numerical_odd))\n",
    "\n",
    "# Percentile\n",
    "print(\"\\nMedian (Numpy - Percentile - Even)\", np.percentile(numerical_even, 50, method='midpoint'))\n",
    "print(\"Median (Numpy - Percentile - Odd)\", np.percentile(numerical_odd, 50, method='midpoint'))\n",
    "\n",
    "# Numpy\n",
    "print(\"\\nMedian (Numpy - Even)\", np.median(numerical_even))\n",
    "print(\"Median (Numpy - Odd)\", np.median(numerical_odd))\n",
    "\n",
    "# Statistics\n",
    "print(\"\\nMedian (Statistics - Even)\", st.median(numerical_even))\n",
    "print(\"Median (Statistics - Odd)\", st.median(numerical_odd))"
   ]
  },
  {
   "cell_type": "markdown",
   "metadata": {},
   "source": [
    "https://www.projectpro.io/recipes/make-boxplot-and-interpret-it#mcetoc_1g8fklav8b"
   ]
  },
  {
   "cell_type": "code",
   "execution_count": 242,
   "metadata": {},
   "outputs": [
    {
     "ename": "TypeError",
     "evalue": "slice indices must be integers or None or have an __index__ method",
     "output_type": "error",
     "traceback": [
      "\u001b[0;31m---------------------------------------------------------------------------\u001b[0m",
      "\u001b[0;31mTypeError\u001b[0m                                 Traceback (most recent call last)",
      "\u001b[1;32m/home/filipe/Documentos/GitHub/Inteligencia-Artificial/Statistics/formulas.ipynb Célula 22\u001b[0m line \u001b[0;36m1\n\u001b[0;32m----> <a href='vscode-notebook-cell:/home/filipe/Documentos/GitHub/Inteligencia-Artificial/Statistics/formulas.ipynb#X35sZmlsZQ%3D%3D?line=0'>1</a>\u001b[0m Q1 \u001b[39m=\u001b[39m np\u001b[39m.\u001b[39mmedian(numerical_even[:(\u001b[39mlen\u001b[39;49m(numerical_even)\u001b[39m/\u001b[39;49m\u001b[39m2\u001b[39;49m)\u001b[39m-\u001b[39;49m\u001b[39m1\u001b[39;49m])\n\u001b[1;32m      <a href='vscode-notebook-cell:/home/filipe/Documentos/GitHub/Inteligencia-Artificial/Statistics/formulas.ipynb#X35sZmlsZQ%3D%3D?line=1'>2</a>\u001b[0m Median \u001b[39m=\u001b[39m np\u001b[39m.\u001b[39mmedian(numerical_even)\n\u001b[1;32m      <a href='vscode-notebook-cell:/home/filipe/Documentos/GitHub/Inteligencia-Artificial/Statistics/formulas.ipynb#X35sZmlsZQ%3D%3D?line=2'>3</a>\u001b[0m Q3 \u001b[39m=\u001b[39m np\u001b[39m.\u001b[39mpercentile(numerical_even, \u001b[39m75\u001b[39m)\n",
      "\u001b[0;31mTypeError\u001b[0m: slice indices must be integers or None or have an __index__ method"
     ]
    }
   ],
   "source": [
    "Q1 = np.median(numerical_even[:(len(numerical_even)/2)-1])\n",
    "Median = np.median(numerical_even)\n",
    "Q3 = np.percentile(numerical_even, 75)\n",
    "IQR = np.abs(Q3 - Q1)\n",
    "superior = Q3 + 1.5*IQR\n",
    "inferior = Q1 - 1.5*IQR\n",
    "\n",
    "print(\"SCIPY/IQR:\", scipy.stats.iqr(numerical_even, interpolation='midpoint'))\n",
    "\n",
    "print(\"Inferior:\",inferior, \" Q1:\", Q1, \" Median:\", Median, \" Q3:\", Q3, \" Superior:\", superior, \"    IQR: \", IQR)\n",
    "plt.boxplot(numerical, vert=False);\n",
    "\n",
    "plt.axvline(min(numerical_even), color='red')\n",
    "plt.axvline(inferior, color='green')\n",
    "plt.axvline(Q1)\n",
    "plt.axvline(Median, color='orange')\n",
    "plt.axvline(Q3)\n",
    "plt.axvline(superior, color='green')\n",
    "plt.axvline(max(numerical_even), color='red')\n",
    "\n",
    "plt.title('Matplotlib')\n",
    "plt.show()\n",
    "\n",
    "sns.boxplot(numerical_even, orient='h');\n",
    "plt.axvline(inferior)\n",
    "plt.axvline(Q1)\n",
    "plt.axvline(Median)\n",
    "plt.axvline(Q3)\n",
    "plt.axvline(superior)\n",
    "plt.title('Seaborn')\n",
    "plt.show()"
   ]
  }
 ],
 "metadata": {
  "kernelspec": {
   "display_name": "DataPackages",
   "language": "python",
   "name": "python3"
  },
  "language_info": {
   "codemirror_mode": {
    "name": "ipython",
    "version": 3
   },
   "file_extension": ".py",
   "mimetype": "text/x-python",
   "name": "python",
   "nbconvert_exporter": "python",
   "pygments_lexer": "ipython3",
   "version": "3.11.5"
  },
  "orig_nbformat": 4
 },
 "nbformat": 4,
 "nbformat_minor": 2
}
