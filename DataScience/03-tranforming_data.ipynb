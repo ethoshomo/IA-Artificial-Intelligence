{
 "cells": [
  {
   "cell_type": "markdown",
   "metadata": {},
   "source": [
    "- Remove lines and columns 'NaN'.\n",
    "- Remove duplicated lines.\n",
    "- Preencher dados faltantes.\n",
    "- Trocar valores por outros (por exemplo, padronização de nulos).\n",
    "- Normalização e Padronização\n",
    "- Binarizar Dados\n",
    "- Categorical Data into Numerical\n",
    "- Balanceamento de Dados"
   ]
  },
  {
   "cell_type": "code",
   "execution_count": null,
   "metadata": {},
   "outputs": [],
   "source": []
  }
 ],
 "metadata": {
  "language_info": {
   "name": "python"
  },
  "orig_nbformat": 4
 },
 "nbformat": 4,
 "nbformat_minor": 2
}
